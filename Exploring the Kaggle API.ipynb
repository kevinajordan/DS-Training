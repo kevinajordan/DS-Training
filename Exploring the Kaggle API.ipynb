{
  "nbformat": 4,
  "nbformat_minor": 0,
  "metadata": {
    "kernelspec": {
      "display_name": "Python 3",
      "language": "python",
      "name": "python3"
    },
    "language_info": {
      "name": "python",
      "version": "3.6.6",
      "mimetype": "text/x-python",
      "codemirror_mode": {
        "name": "ipython",
        "version": 3
      },
      "pygments_lexer": "ipython3",
      "nbconvert_exporter": "python",
      "file_extension": ".py"
    },
    "colab": {
      "name": "Exploring the Kaggle API.ipynb",
      "version": "0.3.2",
      "provenance": [],
      "toc_visible": true
    }
  },
  "cells": [
    {
      "cell_type": "markdown",
      "metadata": {
        "_uuid": "dca7933d67574541dfc9f54404a3b03ba20bdce7",
        "id": "zHtXFlsNpgeU",
        "colab_type": "text"
      },
      "source": [
        "**Exploring the Kaggle API**\n",
        "* [Submit to Competitions](#section1)\n",
        "* [Create Datasets](#section2)\n",
        "* [Publish Kernels](#section3)\n",
        "\n",
        "\n",
        "\n",
        "This notebook is meant to supplement the official documentation for the Kaggle API ([Link #1,](https://github.com/Kaggle/kaggle-api) [Link #2](https://www.kaggle.com/docs/api))."
      ]
    },
    {
      "cell_type": "code",
      "metadata": {
        "_kg_hide-input": true,
        "trusted": true,
        "_uuid": "ce34f6872f32dee5f7f0a50fe96ba562e0f0b30e",
        "id": "L1NPKnyzpgeZ",
        "colab_type": "code",
        "colab": {}
      },
      "source": [
        "import numpy as np\n",
        "import pandas as pd\n",
        "import numpy as np\n",
        "import matplotlib.pyplot as plt\n",
        "import os\n",
        "import itertools\n",
        "from PIL import Image\n",
        "from IPython.core import display as ICD\n",
        "%matplotlib inline\n",
        "def convert_to_df(csv): # needs to be repaired\n",
        "    df = pd.DataFrame(data=csv)[0].str.split(',',expand=True)  \n",
        "    header = df.iloc[0]\n",
        "    df = df[1:]\n",
        "    df.columns = header\n",
        "    return df"
      ],
      "execution_count": 0,
      "outputs": []
    },
    {
      "cell_type": "markdown",
      "metadata": {
        "_uuid": "8f177bb23e6f4276ef3b95722ce2fb8fae0350be",
        "id": "o9DOVBO_pgee",
        "colab_type": "text"
      },
      "source": [
        "Before you begin you will need to:\n",
        "* Expand the right-side menu within the kernel editor\n",
        "* Enable Internet\n",
        "* Install the custom package \"kaggle\"\n",
        "* Replace the USER_ID and USER_SECRET with your own username and API token \n",
        "* * Your API token can be found in the \"Account\" tab on your Kaggle profile.\n"
      ]
    },
    {
      "cell_type": "code",
      "metadata": {
        "trusted": true,
        "_uuid": "1e1fe64a340237d9e89e6486ec6991f5dbef8b7f",
        "_kg_hide-input": true,
        "_kg_hide-output": true,
        "id": "xXKIPpRDpgeg",
        "colab_type": "code",
        "colab": {}
      },
      "source": [
        "# If you are using a local machine you will need to create a JSON metadata file containing your USER_ID and USER_SECRET (  ~/.kaggle/kaggle.json) \n",
        "# and likewise if you are creating a dataset or a kernel each dataset or kernel will need to be paired with a custom JSON metadata file.  \n",
        "# More information on creating JSON metadata files can be found in the official documentation ([Link #1](https://github.com/Kaggle/kaggle-api#api-credentials), [Link #2](https://github.com/Kaggle/kaggle-api/wiki/Dataset-Metadata), [Link #3](https://github.com/Kaggle/kaggle-api/wiki/Kernel-Metadata)) \n",
        "# but for the sake of portability we will create these JSON metadata files and we will perform all other computations within the Kaggle Kernel itself.  \n",
        "# Note that the user_secret is tied to a specific user_id and can be accessed from within the \"Account\" tab on your Kaggle profile by clicking on the \"Create New API Key\" button. \n",
        "\n",
        "# begin secret_api_token code so that nobody steals my API token.  Remove this section after forking this kernel.\n",
        "#from shutil import copyfile\n",
        "#copyfile(src = \"../input/private_kaggle_api_token.py\", dst = \"../working/private_kaggle_api_token.py\")\n",
        "#from private_kaggle_api_token import *\n",
        "#private_kaggle_api_token = private_kaggle_api_token()\n",
        "# end secret_api_token code that hopefully prevents people from stealing my API token.  Remove this section after forking this kernel.\n",
        "\n",
        "# Create a JSON file containing user-specific metadata. \n",
        "# This step is required if you want to access the Kaggle API.  \n",
        "# For more info see: https://github.com/Kaggle/kaggle-api#api-credentials\n",
        "USER_ID = 'paultimothymooney' # REPLACE WITH YOUR OWN USER NAME\n",
        "USER_SECRET = 'private_kaggle_api_token' # REPLACE WITH YOUR OWN PRIVATE API TOKEN\n",
        "import os, json, nbformat, pandas as pd\n",
        "KAGGLE_CONFIG_DIR = os.path.join(os.path.expandvars('$HOME'), '.kaggle')\n",
        "os.makedirs(KAGGLE_CONFIG_DIR, exist_ok = True)\n",
        "with open(os.path.join(KAGGLE_CONFIG_DIR, 'kaggle.json'), 'w') as f:\n",
        "    json.dump({'username': USER_ID, 'key': USER_SECRET}, f)\n",
        "!chmod 600 {KAGGLE_CONFIG_DIR}/kaggle.json"
      ],
      "execution_count": 0,
      "outputs": []
    },
    {
      "cell_type": "markdown",
      "metadata": {
        "_uuid": "c2a4976c1da3bf19c5aca852f35d0499ac2bbe2a",
        "id": "pe-aGNkZpgek",
        "colab_type": "text"
      },
      "source": [
        "<a id='section1'></a>\n",
        "**Explore Kaggle Competitions: View Listings and Make Submissions**"
      ]
    },
    {
      "cell_type": "markdown",
      "metadata": {
        "_uuid": "b1735e0e4a79b0fbc23c3bf561b00b997c4730e4",
        "id": "VoZi2VBxpgel",
        "colab_type": "text"
      },
      "source": [
        "### View listing of competitions on Kaggle"
      ]
    },
    {
      "cell_type": "code",
      "metadata": {
        "_kg_hide-input": true,
        "trusted": true,
        "_uuid": "53f664e8cbd77e37b5911c1bce8c1400d5af2a3e",
        "id": "Y-AQtuCmpgeo",
        "colab_type": "code",
        "colab": {}
      },
      "source": [
        "competitions_list_csv = !kaggle competitions list --csv\n",
        "competitions_list_df = convert_to_df(competitions_list_csv)\n",
        "print('20 Competitions from Kaggle.com/competitions:')\n",
        "ICD.display(competitions_list_df.head(10))"
      ],
      "execution_count": 0,
      "outputs": []
    },
    {
      "cell_type": "markdown",
      "metadata": {
        "_uuid": "cc851ddc47740497c0a46793e75bf539f843659c",
        "id": "2ilNQ4eJpger",
        "colab_type": "text"
      },
      "source": [
        "### Search for a specific competition on Kaggle"
      ]
    },
    {
      "cell_type": "code",
      "metadata": {
        "_kg_hide-input": true,
        "trusted": true,
        "_uuid": "fa403353a0d590863a7a1c45737d7987fb717c70",
        "id": "YmThe0jkpges",
        "colab_type": "code",
        "colab": {}
      },
      "source": [
        "digit_recognizer_search_in_competitions_csv = !kaggle competitions list -s digit-recognizer --csv\n",
        "digit_recognizer_search_in_competitions_df = convert_to_df(digit_recognizer_search_in_competitions_csv)\n",
        "print('Search Results for Digit-Recognizer Competition:')\n",
        "ICD.display(digit_recognizer_search_in_competitions_df.head(10))"
      ],
      "execution_count": 0,
      "outputs": []
    },
    {
      "cell_type": "markdown",
      "metadata": {
        "_uuid": "d79e2cea218a69e32a417b2e39b367f32032b118",
        "id": "b3CRC0j2pgev",
        "colab_type": "text"
      },
      "source": [
        "### Display leaderboard results for a specific competition on Kaggle"
      ]
    },
    {
      "cell_type": "code",
      "metadata": {
        "_kg_hide-input": true,
        "trusted": true,
        "_uuid": "6fbcb2db89168380f4c4d7d170d2bae2e9a32118",
        "id": "y4PV8e1xpgew",
        "colab_type": "code",
        "colab": {}
      },
      "source": [
        "leaderboard_list_csv = !kaggle competitions leaderboard digit-recognizer -s --csv\n",
        "leaderboard_list_df = convert_to_df(leaderboard_list_csv)\n",
        "print('Leaderboard for MNIST Competition:')\n",
        "ICD.display(leaderboard_list_df.head(10))"
      ],
      "execution_count": 0,
      "outputs": []
    },
    {
      "cell_type": "markdown",
      "metadata": {
        "_uuid": "af732cdc85449c0a898e20f08f96b03493872859",
        "id": "FtvTCj-opgez",
        "colab_type": "text"
      },
      "source": [
        "### Submit to a competition on Kaggle"
      ]
    },
    {
      "cell_type": "code",
      "metadata": {
        "_kg_hide-input": true,
        "trusted": true,
        "_uuid": "18985ce3c7c0dee54c8d9cb98557ce49e1227619",
        "id": "1nc4Vx63pge0",
        "colab_type": "code",
        "colab": {}
      },
      "source": [
        "# Create a dummy submission file for the digit-recognizer competition\n",
        "list_1=[]\n",
        "for i in range(28000):\n",
        "    i=i+1\n",
        "    list_1.append(i)\n",
        "list_2 = [7]*28000\n",
        "kerasmnist = os.path.join('.', 'working/kerasmnist')\n",
        "os.makedirs(kerasmnist, exist_ok = True)\n",
        "df = pd.DataFrame(data={\"ImageId\": list_1, \"Label\": list_2})\n",
        "df = df.to_csv(\"./working/kerasmnist/mnist_dummy_submission.csv\", sep=',',index=False)\n",
        "!kaggle competitions submit digit-recognizer -f \"./working/kerasmnist/mnist_dummy_submission.csv\" -m \"MNIST Submission from API\""
      ],
      "execution_count": 0,
      "outputs": []
    },
    {
      "cell_type": "markdown",
      "metadata": {
        "_uuid": "367e3335652693838480eea1bc78124d5266f6bc",
        "id": "Yu6x5U8mpge4",
        "colab_type": "text"
      },
      "source": [
        "<a id='section2'></a>\n",
        "**Explore Kaggle Datasets: View, Download, and Create Datasets **"
      ]
    },
    {
      "cell_type": "markdown",
      "metadata": {
        "_uuid": "92616009cf0b2c3c1c71d22ef2f82ffbe4180066",
        "id": "ktpuLrBMpge5",
        "colab_type": "text"
      },
      "source": [
        "### View datasets listings on Kaggle"
      ]
    },
    {
      "cell_type": "code",
      "metadata": {
        "_kg_hide-input": true,
        "trusted": true,
        "_uuid": "821c121a3731e0c12f424e6255b111a7fdabe447",
        "id": "fiPY3_1Spge8",
        "colab_type": "code",
        "colab": {}
      },
      "source": [
        "datasets_list_csv = !kaggle datasets list --csv\n",
        "datasets_list_df = convert_to_df(datasets_list_csv)\n",
        "print('20 Datasets from Kaggle.com/datasets:')\n",
        "datasets_list_df_sorted = datasets_list_df.sort_values(by='lastUpdated', ascending=0)\n",
        "ICD.display(datasets_list_df_sorted.head(10))"
      ],
      "execution_count": 0,
      "outputs": []
    },
    {
      "cell_type": "markdown",
      "metadata": {
        "_uuid": "82999d917f5765a92e615590b0331280b7f4d0f7",
        "id": "gW0HAtw2pgfC",
        "colab_type": "text"
      },
      "source": [
        "### Search for a specific dataset on Kaggle"
      ]
    },
    {
      "cell_type": "code",
      "metadata": {
        "_kg_hide-input": true,
        "trusted": true,
        "_uuid": "bc19fbe5a78d912a997b2e0f2fc8c73b6474f00d",
        "id": "EydppJbGpgfE",
        "colab_type": "code",
        "colab": {}
      },
      "source": [
        "fashion_minst_search_in_datasets_csv = !kaggle datasets list -s fashion-mnist --csv\n",
        "fashion_minst_search_in_datasets_df = convert_to_df(fashion_minst_search_in_datasets_csv)\n",
        "print('Search Results for Fashion-MNIST Dataset:')\n",
        "ICD.display(fashion_minst_search_in_datasets_df.head(10))"
      ],
      "execution_count": 0,
      "outputs": []
    },
    {
      "cell_type": "markdown",
      "metadata": {
        "_uuid": "5cfb1de6ca87b3f49945da4522ff5fc9c2f27838",
        "id": "t7PdIRfEpgfM",
        "colab_type": "text"
      },
      "source": [
        "### Download datasets from Kaggle"
      ]
    },
    {
      "cell_type": "code",
      "metadata": {
        "trusted": true,
        "_uuid": "2a54f534faa429a0a717f453e27e8e0b8ddeaeb8",
        "scrolled": true,
        "_kg_hide-input": true,
        "_kg_hide-output": false,
        "id": "qQmF0mkqpgfO",
        "colab_type": "code",
        "colab": {}
      },
      "source": [
        "# download fashion mnist dataset from Kaggle datasets platform\n",
        "fashionmnist = os.path.join('.', 'working/fashionmnist')\n",
        "os.makedirs(fashionmnist, exist_ok = True)\n",
        "!kaggle datasets download -d zalando-research/fashionmnist -p working/fashionmnist\n",
        "\n",
        "# download digit recognizer dataset from Kaggle competitions platform\n",
        "digitrecognizer = os.path.join('.', 'working/digitrecognizer')\n",
        "os.makedirs(digitrecognizer, exist_ok = True)\n",
        "!kaggle competitions download digit-recognizer -p working/digitrecognizer"
      ],
      "execution_count": 0,
      "outputs": []
    },
    {
      "cell_type": "markdown",
      "metadata": {
        "_uuid": "78cf1c73716d26bf367a347d9d8d47bef06225d3",
        "id": "3aeYtuL4pgfR",
        "colab_type": "text"
      },
      "source": [
        "### Access and visualize the data you just downloaded"
      ]
    },
    {
      "cell_type": "code",
      "metadata": {
        "trusted": true,
        "_uuid": "b941e68f56794661ca8762a5f7b3b629a8f0a0e5",
        "_kg_hide-input": true,
        "id": "KoZHToqEpgfS",
        "colab_type": "code",
        "colab": {}
      },
      "source": [
        "data = pd.read_csv('working/digitrecognizer/train.csv')\n",
        "testingData = pd.read_csv('working/digitrecognizer/test.csv')\n",
        "X = data.drop(\"label\",axis=1).values\n",
        "y = data.label.values\n",
        "\n",
        "def describeDataset(features,labels):\n",
        "    print(\"\\n'X' shape: %s.\"%(features.shape,))\n",
        "    print(\"\\n'y' shape: %s.\"%(labels.shape,))\n",
        "    print(\"\\nUnique elements in y: %s\"%(np.unique(y)))\n",
        "describeDataset(X,y)\n",
        "\n",
        "def displayMNIST(flatData,labels):\n",
        "    \"\"\" Displays 10 handwritten digis and 10 classification labels \"\"\"\n",
        "    figure,image = plt.subplots(1,10, figsize=(10,10))\n",
        "    for i in range(10):\n",
        "        image[i].imshow(flatData[i].reshape((28,28)))\n",
        "        image[i].axis('off')\n",
        "        image[i].set_title(labels[i])\n",
        "displayMNIST(X,y)\n",
        "\n",
        "def displayMNIST2(flatData,labels):\n",
        "    \"\"\"Display MNIST data\"\"\"\n",
        "    flatData2 = data.drop(\"label\",axis=1).values\n",
        "    X2 = np.insert(flatData2,0,1,axis=1)\n",
        "    figure,image = plt.subplots(1,10, figsize=(10,10))\n",
        "    for i in range(10):\n",
        "        tenImages = np.random.choice(X2.shape[0], 10)\n",
        "        image[i].imshow(X2[tenImages,1:].reshape(-1,28))\n",
        "        image[i].axis('off')\n",
        "displayMNIST2(X,y)"
      ],
      "execution_count": 0,
      "outputs": []
    },
    {
      "cell_type": "markdown",
      "metadata": {
        "trusted": true,
        "_uuid": "d89d0c69126706111ca1654886c252f203be9d11",
        "id": "jw6yvMoapgfU",
        "colab_type": "text"
      },
      "source": [
        "### Create a new dataset using the data you just downloaded"
      ]
    },
    {
      "cell_type": "code",
      "metadata": {
        "trusted": true,
        "_uuid": "7baa21b06b9bde8b7e0c6fe9ccfd84b10c9a139f",
        "_kg_hide-input": true,
        "_kg_hide-output": false,
        "id": "n1Mgxw-YpgfW",
        "colab_type": "code",
        "colab": {}
      },
      "source": [
        "# Tidy up the data before uploading it\n",
        "!zip -r fashionmnist.zip working/fashionmnist/\n",
        "!zip -r digitrecognizer.zip working/digitrecognizer/\n",
        "\n",
        "# Create dataset-specific JSON metadata file\n",
        "# https://github.com/Kaggle/kaggle-api/wiki/Dataset-Metadata\n",
        "dataset_meta_template = lambda user_id, title, file_id, nb_path: {\"title\": f\"{title}\", \n",
        "  \"subtitle\": \"My awesomer subtitle\",\n",
        "  \"description\": \"My awesomest description\",\n",
        "  \"id\": f\"{user_id}/{file_id}\",\n",
        "  \"licenses\": [{\"name\": \"CC0-1.0\"}],\n",
        "  \"resources\": \n",
        "    [{\"path\": \"digitrecognizer.zip\",\n",
        "      \"description\": \"kaggle.com/c/digit-recognizer\",},\n",
        "    {\"path\": \"fashionmnist.zip\",\n",
        "      \"description\": \"kaggle.com/zalando-research/fashionmnist\"}],}\n",
        "\n",
        "name_of_new_dataset='Kaggle-Dataset-Demo-From-API'\n",
        "path_of_current_data = 'working'\n",
        "with open('dataset-metadata.json', 'w') as f:\n",
        "    meta_dict = dataset_meta_template(USER_ID,name_of_new_dataset,name_of_new_dataset,path_of_current_data)\n",
        "    json.dump(meta_dict, f)\n",
        "!kaggle datasets create -p ."
      ],
      "execution_count": 0,
      "outputs": []
    },
    {
      "cell_type": "markdown",
      "metadata": {
        "_uuid": "1cada1fbacb57fd2b8dc3d1198fe590d0b67409f",
        "id": "2ElyhbvzpgfZ",
        "colab_type": "text"
      },
      "source": [
        "### Add a new file to the dataset and create a new dataset version"
      ]
    },
    {
      "cell_type": "code",
      "metadata": {
        "trusted": true,
        "_uuid": "627e0e1a36da9d2942504322e0e6530f8c95456f",
        "_kg_hide-input": true,
        "_kg_hide-output": false,
        "id": "-zRHw6dfpgfa",
        "colab_type": "code",
        "colab": {}
      },
      "source": [
        "from keras.datasets import mnist\n",
        "(x_train, y_train), (x_test, y_test) = mnist.load_data()\n",
        "kerasmnist = os.path.join('.', 'working/kerasmnist')\n",
        "os.makedirs(kerasmnist, exist_ok = True)\n",
        "np.savez(\"working/kerasmnist/MNIST_X_train\", x_train)\n",
        "np.savez(\"working/kerasmnist/MNIST_Y_train\", y_train)\n",
        "np.savez(\"working/kerasmnist/MNIST_X_test\", x_test)\n",
        "np.savez(\"working/kerasmnist/MNIST_Y_test\", y_test)\n",
        "!kaggle datasets version -p . -m \"Added more MNIST data\""
      ],
      "execution_count": 0,
      "outputs": []
    },
    {
      "cell_type": "markdown",
      "metadata": {
        "_uuid": "3b351ccaaa44bbadf65a39efd728b2c9c492a5fd",
        "id": "A4jZ_1V9pgfe",
        "colab_type": "text"
      },
      "source": [
        "<a id='section3'></a>\n",
        "**Explore Kaggle Kernels: View, Download, and Publish Kernels**"
      ]
    },
    {
      "cell_type": "markdown",
      "metadata": {
        "_uuid": "3081337a4de58a5f967890e7297e6dd22fad9039",
        "id": "7mzJuayHpgff",
        "colab_type": "text"
      },
      "source": [
        "### View and search for kernels on Kaggle"
      ]
    },
    {
      "cell_type": "code",
      "metadata": {
        "_kg_hide-input": true,
        "trusted": true,
        "_uuid": "d952cfb09d2eff6c64ff2ac2fb4bd0966ea6aa63",
        "id": "yZ2w_383pgfg",
        "colab_type": "code",
        "colab": {}
      },
      "source": [
        "kernel_listings_csv = !kaggle kernels list -s kaggle-kernel-demo --csv\n",
        "kernel_listings_df = convert_to_df(kernel_listings_csv)\n",
        "print('Listing of Kernels on Kaggle for Search Term \"Demo\":')\n",
        "ICD.display(kernel_listings_df.head(10))"
      ],
      "execution_count": 0,
      "outputs": []
    },
    {
      "cell_type": "markdown",
      "metadata": {
        "_uuid": "de5d15af00b3537e7ff277fd8e7bbde3aa0dd85c",
        "id": "xQnBiHVtpgfj",
        "colab_type": "text"
      },
      "source": [
        "### Download a kernel using the Kaggle API"
      ]
    },
    {
      "cell_type": "code",
      "metadata": {
        "_kg_hide-input": true,
        "trusted": true,
        "_uuid": "d4c55229b261e662d6f3721b016a3639c68f3e6f",
        "_kg_hide-output": false,
        "id": "6lWwMI3Ipgfl",
        "colab_type": "code",
        "colab": {}
      },
      "source": [
        "# Create a JSON file containing kernel-specific metadata\n",
        "# https://github.com/Kaggle/kaggle-api/wiki/Kernel-Metadata\n",
        "notebook_meta_template = lambda user_id, title, file_id, nb_path: {'id': f'{user_id}/{file_id}',\n",
        " 'title': f'{title}',\n",
        " 'code_file': nb_path,\n",
        " 'language': 'python',\n",
        " 'kernel_type': 'notebook',\n",
        " 'is_private': True,\n",
        " 'enable_gpu': True,\n",
        " 'enable_internet': False,\n",
        " 'keywords': [],\n",
        " 'dataset_sources': ['keras/resnet50', 'paultimothymooney/sample-images-for-kaggle-demos'],\n",
        " 'kernel_sources': [],\n",
        " 'competition_sources': []}\n",
        "\n",
        "name_of_new_kernel='Kaggle-Kernel-Demo-From-API'\n",
        "path_of_current_kernel = 'working/demokernel/kaggle-kernel-demo-pre-trained-image-classifier.ipynb'\n",
        "with open('kernel-metadata.json', 'w') as f:\n",
        "    meta_dict = notebook_meta_template(USER_ID,name_of_new_kernel,name_of_new_kernel,path_of_current_kernel)\n",
        "    json.dump(meta_dict, f)\n",
        "    \n",
        "# download kaggle kernel demo\n",
        "demokernel = os.path.join('.', 'working/demokernel')\n",
        "os.makedirs(demokernel, exist_ok = True)\n",
        "!kaggle kernels pull paultimothymooney/kaggle-kernel-demo-pre-trained-image-classifier -p working/demokernel"
      ],
      "execution_count": 0,
      "outputs": []
    },
    {
      "cell_type": "markdown",
      "metadata": {
        "_uuid": "2f0f0a8f167d9eb772576a1cdcecce1a285a9082",
        "id": "vUoCu6qwpgfp",
        "colab_type": "text"
      },
      "source": [
        "### Publish a kernel using the Kaggle API"
      ]
    },
    {
      "cell_type": "code",
      "metadata": {
        "_kg_hide-input": true,
        "trusted": true,
        "_uuid": "0a2d5d782ccc4ec1b9c43a96c5e0f9147d8c6521",
        "id": "wuDuN-mhpgfq",
        "colab_type": "code",
        "colab": {}
      },
      "source": [
        "# publish a new version of the kaggle kernel demo\n",
        "!kaggle kernels push -p ."
      ],
      "execution_count": 0,
      "outputs": []
    },
    {
      "cell_type": "markdown",
      "metadata": {
        "_uuid": "4bc71bd1ac7272df7ea8399f169e892ccc2cf860",
        "id": "ZD8cblK2pgfv",
        "colab_type": "text"
      },
      "source": [
        "### Tidy up the notebook output"
      ]
    },
    {
      "cell_type": "code",
      "metadata": {
        "trusted": true,
        "_uuid": "111873db918fe0fb2a9dd118d9169a912b477dc1",
        "_kg_hide-input": true,
        "_kg_hide-output": true,
        "id": "2JrJaX3Gpgfx",
        "colab_type": "code",
        "colab": {}
      },
      "source": [
        "!zip -r kerasmnist.zip working/kerasmnist/\n",
        "!zip -r demokernel.zip working/demokernel/\n",
        "!rm -rf working/*\n",
        "!rm -r working\n",
        "!rm -r kernel-metadata.json\n",
        "!rm -r dataset-metadata.json\n",
        "!rm -r private_kaggle_api_token.py\n",
        "!rm -r __pycache__/private_kaggle_api_token.cpython-36.pyc # Please dont steal my token"
      ],
      "execution_count": 0,
      "outputs": []
    }
  ]
}