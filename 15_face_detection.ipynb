{
  "nbformat": 4,
  "nbformat_minor": 0,
  "metadata": {
    "colab": {
      "name": "15_face_detection.ipynb",
      "version": "0.3.2",
      "provenance": [],
      "collapsed_sections": [],
      "include_colab_link": true
    },
    "kernelspec": {
      "name": "python3",
      "display_name": "Python 3"
    },
    "accelerator": "GPU"
  },
  "cells": [
    {
      "cell_type": "markdown",
      "metadata": {
        "id": "view-in-github",
        "colab_type": "text"
      },
      "source": [
        "<a href=\"https://colab.research.google.com/github/kevinajordan/DS-Training/blob/master/15_face_detection.ipynb\" target=\"_parent\"><img src=\"https://colab.research.google.com/assets/colab-badge.svg\" alt=\"Open In Colab\"/></a>"
      ]
    },
    {
      "cell_type": "markdown",
      "metadata": {
        "id": "lEKuq7MIijEs",
        "colab_type": "text"
      },
      "source": [
        "# Face Detection with Keras and OpenCV\n",
        "\n",
        "At first we will be using HaarCascade for face detection with OpenCV.\n",
        "\n",
        "Second we will be using MTCNN in Python for Face Detection.\n"
      ]
    },
    {
      "cell_type": "markdown",
      "metadata": {
        "id": "2QceOGLnyb0e",
        "colab_type": "text"
      },
      "source": [
        "## Face Detection Using HaarCascade with OpenCV\n",
        "\n",
        "### HaarCascade\n",
        "\n",
        "To perform face detection we will use a pre-trained model that uses HaarCascade. This is a well known object detection algorithm that was first proposed in 2001.\n",
        "\n",
        "I recommend reading this blog post on it:\n",
        "\n",
        "https://docs.opencv.org/3.4.1/d7/d8b/tutorial_py_face_detection.html\n",
        "\n",
        "We need to download the HaarCascade pre-trained classifier file so we can use it with OpenCV."
      ]
    },
    {
      "cell_type": "code",
      "metadata": {
        "id": "QDu9HE6S0on7",
        "colab_type": "code",
        "colab": {
          "base_uri": "https://localhost:8080/",
          "height": 421
        },
        "outputId": "2f9b834a-cbc0-46c5-d57a-8cb27229f13c"
      },
      "source": [
        "#@title Haar Cascade Visualization { display-mode: \"form\" }\n",
        "#@markdown This 4 min video shows how the Haar Cascade algorithm processes an image:\n",
        "from IPython.display import YouTubeVideo\n",
        "YouTubeVideo('hPCTwxF0qf4', width=600, height=400)"
      ],
      "execution_count": 2,
      "outputs": [
        {
          "output_type": "execute_result",
          "data": {
            "text/html": [
              "\n",
              "        <iframe\n",
              "            width=\"600\"\n",
              "            height=\"400\"\n",
              "            src=\"https://www.youtube.com/embed/hPCTwxF0qf4\"\n",
              "            frameborder=\"0\"\n",
              "            allowfullscreen\n",
              "        ></iframe>\n",
              "        "
            ],
            "text/plain": [
              "<IPython.lib.display.YouTubeVideo at 0x7f75b5e34b00>"
            ],
            "image/jpeg": "[encoded data removed]"
          },
          "metadata": {
            "tags": []
          },
          "execution_count": 2
        }
      ]
    },
    {
      "cell_type": "code",
      "metadata": {
        "id": "V9R95HQMovFM",
        "colab_type": "code",
        "colab": {}
      },
      "source": [
        "!curl -O \"https://raw.githubusercontent.com/opencv/opencv/master/data/haarcascades/haarcascade_frontalface_default.xml\""
      ],
      "execution_count": 0,
      "outputs": []
    },
    {
      "cell_type": "code",
      "metadata": {
        "id": "8L-yXDtYiaYs",
        "colab_type": "code",
        "colab": {}
      },
      "source": [
        "!pip install opencv-python"
      ],
      "execution_count": 0,
      "outputs": []
    },
    {
      "cell_type": "code",
      "metadata": {
        "id": "GadFv5GWoLF6",
        "colab_type": "code",
        "colab": {}
      },
      "source": [
        "import cv2\n",
        "print(cv2.__version__)"
      ],
      "execution_count": 0,
      "outputs": []
    },
    {
      "cell_type": "code",
      "metadata": {
        "id": "kpuiqcrUzvsk",
        "colab_type": "code",
        "colab": {}
      },
      "source": [
        "# Let's download our images we will use\n",
        "!curl -O \"https://3qeqpr26caki16dnhd19sv6by6v-wpengine.netdna-ssl.com/wp-content/uploads/2019/03/test1.jpg\"\n",
        "!curl -O \"https://3qeqpr26caki16dnhd19sv6by6v-wpengine.netdna-ssl.com/wp-content/uploads/2019/03/test2.jpg\""
      ],
      "execution_count": 0,
      "outputs": []
    },
    {
      "cell_type": "code",
      "metadata": {
        "id": "gNs_Zii01zdk",
        "colab_type": "code",
        "colab": {}
      },
      "source": [
        "!ls -la"
      ],
      "execution_count": 0,
      "outputs": []
    },
    {
      "cell_type": "code",
      "metadata": {
        "id": "R8xEgPCB5UVu",
        "colab_type": "code",
        "colab": {}
      },
      "source": [
        "# import cv2 and related libraries\n",
        "from cv2 import imread\n",
        "#from cv2 import imshow\n",
        "from google.colab.patches import cv2_imshow\n",
        "\n",
        "# import a classifier that can do HaarCascade\n",
        "from cv2 import _______\n",
        "from cv2 import rectangle"
      ],
      "execution_count": 0,
      "outputs": []
    },
    {
      "cell_type": "markdown",
      "metadata": {
        "id": "fnXNxqs9Wy-5",
        "colab_type": "text"
      },
      "source": [
        "plot photo with detected faces using opencv cascade classifier"
      ]
    },
    {
      "cell_type": "code",
      "metadata": {
        "id": "U0ufATRFp0ZE",
        "colab_type": "code",
        "colab": {}
      },
      "source": [
        "# load the photograph\n",
        "pixels = _____('test2.jpg')\n",
        "# initiate the Haar Cascade classifier with the pre-trained model file\n",
        "classifier = ______\n",
        "# perform face detection\n",
        "bboxes = classifier._______(pixels)\n",
        "# print bounding box for each detected face\n",
        "for box in bboxes:\n",
        "\t# extract\n",
        "\tx, y, width, height = box\n",
        "\tx2, y2 = x + width, y + height\n",
        "\t# draw a rectangle over the pixels\n",
        "\trectangle(pixels, (x, y), (x2, y2), (0,0,255), 1)\n",
        "# show the image\n",
        "cv2_imshow(pixels)\n"
      ],
      "execution_count": 0,
      "outputs": []
    },
    {
      "cell_type": "markdown",
      "metadata": {
        "id": "Z-F3n5aSAeEN",
        "colab_type": "text"
      },
      "source": [
        "## Multi-task Cascade Convolutional Neural Network (MTCNN)\n",
        "\n",
        "The MTCNN is popular because it achieved then state-of-the-art results on a range of benchmark datasets, and because it is capable of also recognizing other facial features such as eyes and mouth, called landmark detection.\n",
        "\n",
        "The network uses a cascade structure with three networks; first the image is rescaled to a range of different sizes (called an image pyramid), then the first model (Proposal Network or P-Net) proposes candidate facial regions, the second model (Refine Network or R-Net) filters the bounding boxes, and the third model (Output Network or O-Net) proposes facial landmarks.\n",
        "\n",
        "![alt text](https://3qeqpr26caki16dnhd19sv6by6v-wpengine.netdna-ssl.com/wp-content/uploads/2019/03/Pipeline-for-the-Multi-Task-Cascaded-Convolutional-Neural-Network.png)\n",
        "\n"
      ]
    },
    {
      "cell_type": "markdown",
      "metadata": {
        "id": "-bWYr474C6P9",
        "colab_type": "text"
      },
      "source": [
        "There is a Python implementation of MTCNN [here](https://github.com/ipazc/mtcnn) that we'll be implementing."
      ]
    },
    {
      "cell_type": "code",
      "metadata": {
        "id": "MQH6UfnZDX76",
        "colab_type": "code",
        "colab": {}
      },
      "source": [
        "!pip install mtcnn"
      ],
      "execution_count": 0,
      "outputs": []
    },
    {
      "cell_type": "markdown",
      "metadata": {
        "id": "6TPLFyoSaL_o",
        "colab_type": "text"
      },
      "source": [
        "Re-download our images in case you needed to restart your runtime."
      ]
    },
    {
      "cell_type": "code",
      "metadata": {
        "colab_type": "code",
        "id": "7Mq1wKEjE0ve",
        "colab": {}
      },
      "source": [
        "# Let's download our images we will use\n",
        "!curl -O \"https://3qeqpr26caki16dnhd19sv6by6v-wpengine.netdna-ssl.com/wp-content/uploads/2019/03/test1.jpg\"\n",
        "!curl -O \"https://3qeqpr26caki16dnhd19sv6by6v-wpengine.netdna-ssl.com/wp-content/uploads/2019/03/test2.jpg\""
      ],
      "execution_count": 0,
      "outputs": []
    },
    {
      "cell_type": "code",
      "metadata": {
        "id": "A9QHBmMsDfUR",
        "colab_type": "code",
        "colab": {}
      },
      "source": [
        "# confirm mtcnn was installed correctly\n",
        "import mtcnn\n",
        "# print version\n",
        "print(mtcnn.__version__)"
      ],
      "execution_count": 0,
      "outputs": []
    },
    {
      "cell_type": "code",
      "metadata": {
        "id": "IRKwJ90BEJrB",
        "colab_type": "code",
        "colab": {}
      },
      "source": [
        "# face detection with mtcnn on a photograph\n",
        "from matplotlib import pyplot\n",
        "from matplotlib.patches import Rectangle\n",
        "from matplotlib.patches import Circle\n",
        "from mtcnn.mtcnn import MTCNN"
      ],
      "execution_count": 0,
      "outputs": []
    },
    {
      "cell_type": "code",
      "metadata": {
        "id": "7mKFigyEGrfG",
        "colab_type": "code",
        "colab": {}
      },
      "source": [
        "# draw an image with detected objects\n",
        "def draw_image_with_boxes(filename, result_list):\n",
        "\t# load the image with matplotlib\n",
        "\tdata = _______(filename)\n",
        "\t# plot the image with matplotlib\n",
        "\t________\n",
        "\t# get the context for drawing boxes. use matplotlib to get the current polar axes on the current figure\n",
        "\tax = ______\n",
        "\n",
        "\t# plot each box\n",
        "\tfor result in result_list:\n",
        "\t\t# get coordinates\n",
        "\t\tx, y, width, height = result['box']\n",
        "\n",
        "\t\t# create the rectangle shape using matplotlib\n",
        "\t\trect = ____________\n",
        "\t\t# draw the box\n",
        "\t\tax.add_patch(rect)\n",
        "\t\t# draw the dots\n",
        "\t\tfor key, value in result['keypoints'].items():\n",
        "      \n",
        "\t\t\t# create and draw a circle\n",
        "\t\t\tcircle = _____\n",
        "\t\t\tax.add_patch(circle)\n",
        "\t# show the plot\n",
        "\tpyplot.show()"
      ],
      "execution_count": 0,
      "outputs": []
    },
    {
      "cell_type": "code",
      "metadata": {
        "id": "ns-8kGmkDvF8",
        "colab_type": "code",
        "colab": {}
      },
      "source": [
        "filename = 'test2.jpg'\n",
        "# Read in the image with matplotlib this time.\n",
        "pixels = _____(filename)\n",
        "\n",
        "# create the detector, using default weights\n",
        "detector = ______\n",
        "\n",
        "# detect faces in the image\n",
        "faces = detector._________\n",
        "# display faces on the original image using the function you just created above\n",
        "________"
      ],
      "execution_count": 0,
      "outputs": []
    },
    {
      "cell_type": "code",
      "metadata": {
        "id": "HUqe2en_H61W",
        "colab_type": "code",
        "colab": {}
      },
      "source": [
        "# draw each face separately\n",
        "def draw_faces(filename, result_list):\n",
        "\t# load the image\n",
        "\tdata = pyplot.imread(filename)\n",
        "\t# plot each face as a subplot\n",
        "\tfor i in range(len(result_list)):\n",
        "\t\t# get coordinates\n",
        "\t\tx1, y1, width, height = result_list[i]['box']\n",
        "\t\tx2, y2 = x1 + width, y1 + height\n",
        "\t\t# define subplot\n",
        "\t\tpyplot.subplot(1, len(result_list), i+1)\n",
        "\t\tpyplot.axis('off')\n",
        "\t\t# plot face\n",
        "\t\tpyplot.imshow(data[y1:y2, x1:x2])\n",
        "\t# show the plot\n",
        "\tpyplot.show()\n",
        "\n"
      ],
      "execution_count": 0,
      "outputs": []
    },
    {
      "cell_type": "code",
      "metadata": {
        "id": "bqWPKgkwE6aD",
        "colab_type": "code",
        "colab": {}
      },
      "source": [
        "filename = 'test2.jpg'\n",
        "# load image using matplotlib\n",
        "pixels = ______\n",
        "# create the detector, using default weights\n",
        "detector = ________\n",
        "# detect faces in the image using the MTCNN library\n",
        "faces = detector.__________\n",
        "# display faces of the original image using the function created in the cell above\n",
        "_________"
      ],
      "execution_count": 0,
      "outputs": []
    }
  ]
}