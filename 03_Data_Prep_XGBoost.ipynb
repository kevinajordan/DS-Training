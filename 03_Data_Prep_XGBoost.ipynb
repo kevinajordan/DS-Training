{
  "nbformat": 4,
  "nbformat_minor": 0,
  "metadata": {
    "colab": {
      "name": "03_Data_Prep_XGBoost.ipynb",
      "version": "0.3.2",
      "provenance": [],
      "include_colab_link": true
    },
    "kernelspec": {
      "name": "python3",
      "display_name": "Python 3"
    }
  },
  "cells": [
    {
      "cell_type": "markdown",
      "metadata": {
        "id": "view-in-github",
        "colab_type": "text"
      },
      "source": [
        "<a href=\"https://colab.research.google.com/github/kevinajordan/DS-Training/blob/master/03_Data_Prep_XGBoost.ipynb\" target=\"_parent\"><img src=\"https://colab.research.google.com/assets/colab-badge.svg\" alt=\"Open In Colab\"/></a>"
      ]
    },
    {
      "cell_type": "markdown",
      "metadata": {
        "id": "i7G8ZQOAAyG0",
        "colab_type": "text"
      },
      "source": [
        "# Data Preparation Continued\n",
        "\n",
        "Last lesson we went over data pre-processing. We discovered the importance of scaling and normalizing your data. We also discussed handling missing data and incorrect values. The data pre-processing steps one takes is tied to a model that will be run.\n",
        "\n",
        "With this lesson we will continue with data preparation tied to a specific example of gradient boosting. You will learn about handling categorical data and one-hot encoding. You will also learn how to automatically handle missing data with XGBoost.\n",
        "\n",
        "Dataset for Today: Iris Flower\n",
        "http://archive.ics.uci.edu/ml/datasets/Iris\n",
        "\n",
        "https://scikit-learn.org/stable/auto_examples/datasets/plot_iris_dataset.html\n",
        "\n"
      ]
    },
    {
      "cell_type": "code",
      "metadata": {
        "id": "3fRHU15pLobw",
        "colab_type": "code",
        "outputId": "bca33a5f-3090-4f21-e958-19813e4e1035",
        "colab": {
          "base_uri": "https://localhost:8080/",
          "height": 119
        }
      },
      "source": [
        "# Clone DS-Training repo for datasets and skeleton code\n",
        "!git clone https://github.com/kevinajordan/DS-Training.git"
      ],
      "execution_count": 0,
      "outputs": [
        {
          "output_type": "stream",
          "text": [
            "Cloning into 'DS-Training'...\n",
            "remote: Enumerating objects: 55, done.\u001b[K\n",
            "remote: Counting objects:   1% (1/55)   \u001b[K\rremote: Counting objects:   3% (2/55)   \u001b[K\rremote: Counting objects:   5% (3/55)   \u001b[K\rremote: Counting objects:   7% (4/55)   \u001b[K\rremote: Counting objects:   9% (5/55)   \u001b[K\rremote: Counting objects:  10% (6/55)   \u001b[K\rremote: Counting objects:  12% (7/55)   \u001b[K\rremote: Counting objects:  14% (8/55)   \u001b[K\rremote: Counting objects:  16% (9/55)   \u001b[K\rremote: Counting objects:  18% (10/55)   \u001b[K\rremote: Counting objects:  20% (11/55)   \u001b[K\rremote: Counting objects:  21% (12/55)   \u001b[K\rremote: Counting objects:  23% (13/55)   \u001b[K\rremote: Counting objects:  25% (14/55)   \u001b[K\rremote: Counting objects:  27% (15/55)   \u001b[K\rremote: Counting objects:  29% (16/55)   \u001b[K\rremote: Counting objects:  30% (17/55)   \u001b[K\rremote: Counting objects:  32% (18/55)   \u001b[K\rremote: Counting objects:  34% (19/55)   \u001b[K\rremote: Counting objects:  36% (20/55)   \u001b[K\rremote: Counting objects:  38% (21/55)   \u001b[K\rremote: Counting objects:  40% (22/55)   \u001b[K\rremote: Counting objects:  41% (23/55)   \u001b[K\rremote: Counting objects:  43% (24/55)   \u001b[K\rremote: Counting objects:  45% (25/55)   \u001b[K\rremote: Counting objects:  47% (26/55)   \u001b[K\rremote: Counting objects:  49% (27/55)   \u001b[K\rremote: Counting objects:  50% (28/55)   \u001b[K\rremote: Counting objects:  52% (29/55)   \u001b[K\rremote: Counting objects:  54% (30/55)   \u001b[K\rremote: Counting objects:  56% (31/55)   \u001b[K\rremote: Counting objects:  58% (32/55)   \u001b[K\rremote: Counting objects:  60% (33/55)   \u001b[K\rremote: Counting objects:  61% (34/55)   \u001b[K\rremote: Counting objects:  63% (35/55)   \u001b[K\rremote: Counting objects:  65% (36/55)   \u001b[K\rremote: Counting objects:  67% (37/55)   \u001b[K\rremote: Counting objects:  69% (38/55)   \u001b[K\rremote: Counting objects:  70% (39/55)   \u001b[K\rremote: Counting objects:  72% (40/55)   \u001b[K\rremote: Counting objects:  74% (41/55)   \u001b[K\rremote: Counting objects:  76% (42/55)   \u001b[K\rremote: Counting objects:  78% (43/55)   \u001b[K\rremote: Counting objects:  80% (44/55)   \u001b[K\rremote: Counting objects:  81% (45/55)   \u001b[K\rremote: Counting objects:  83% (46/55)   \u001b[K\rremote: Counting objects:  85% (47/55)   \u001b[K\rremote: Counting objects:  87% (48/55)   \u001b[K\rremote: Counting objects:  89% (49/55)   \u001b[K\rremote: Counting objects:  90% (50/55)   \u001b[K\rremote: Counting objects:  92% (51/55)   \u001b[K\rremote: Counting objects:  94% (52/55)   \u001b[K\rremote: Counting objects:  96% (53/55)   \u001b[K\rremote: Counting objects:  98% (54/55)   \u001b[K\rremote: Counting objects: 100% (55/55)   \u001b[K\rremote: Counting objects: 100% (55/55), done.\u001b[K\n",
            "remote: Compressing objects:   1% (1/53)   \u001b[K\rremote: Compressing objects:   3% (2/53)   \u001b[K\rremote: Compressing objects:   5% (3/53)   \u001b[K\rremote: Compressing objects:   7% (4/53)   \u001b[K\rremote: Compressing objects:   9% (5/53)   \u001b[K\rremote: Compressing objects:  11% (6/53)   \u001b[K\rremote: Compressing objects:  13% (7/53)   \u001b[K\rremote: Compressing objects:  15% (8/53)   \u001b[K\rremote: Compressing objects:  16% (9/53)   \u001b[K\rremote: Compressing objects:  18% (10/53)   \u001b[K\rremote: Compressing objects:  20% (11/53)   \u001b[K\rremote: Compressing objects:  22% (12/53)   \u001b[K\rremote: Compressing objects:  24% (13/53)   \u001b[K\rremote: Compressing objects:  26% (14/53)   \u001b[K\rremote: Compressing objects:  28% (15/53)   \u001b[K\rremote: Compressing objects:  30% (16/53)   \u001b[K\rremote: Compressing objects:  32% (17/53)   \u001b[K\rremote: Compressing objects:  33% (18/53)   \u001b[K\rremote: Compressing objects:  35% (19/53)   \u001b[K\rremote: Compressing objects:  37% (20/53)   \u001b[K\rremote: Compressing objects:  39% (21/53)   \u001b[K\rremote: Compressing objects:  41% (22/53)   \u001b[K\rremote: Compressing objects:  43% (23/53)   \u001b[K\rremote: Compressing objects:  45% (24/53)   \u001b[K\rremote: Compressing objects:  47% (25/53)   \u001b[K\rremote: Compressing objects:  49% (26/53)   \u001b[K\rremote: Compressing objects:  50% (27/53)   \u001b[K\rremote: Compressing objects:  52% (28/53)   \u001b[K\rremote: Compressing objects:  54% (29/53)   \u001b[K\rremote: Compressing objects:  56% (30/53)   \u001b[K\rremote: Compressing objects:  58% (31/53)   \u001b[K\rremote: Compressing objects:  60% (32/53)   \u001b[K\rremote: Compressing objects:  62% (33/53)   \u001b[K\rremote: Compressing objects:  64% (34/53)   \u001b[K\rremote: Compressing objects:  66% (35/53)   \u001b[K\rremote: Compressing objects:  67% (36/53)   \u001b[K\rremote: Compressing objects:  69% (37/53)   \u001b[K\rremote: Compressing objects:  71% (38/53)   \u001b[K\rremote: Compressing objects:  73% (39/53)   \u001b[K\rremote: Compressing objects:  75% (40/53)   \u001b[K\rremote: Compressing objects:  77% (41/53)   \u001b[K\rremote: Compressing objects:  79% (42/53)   \u001b[K\rremote: Compressing objects:  81% (43/53)   \u001b[K\rremote: Compressing objects:  83% (44/53)   \u001b[K\rremote: Compressing objects:  84% (45/53)   \u001b[K\rremote: Compressing objects:  86% (46/53)   \u001b[K\rremote: Compressing objects:  88% (47/53)   \u001b[K\rremote: Compressing objects:  90% (48/53)   \u001b[K\rremote: Compressing objects:  92% (49/53)   \u001b[K\rremote: Compressing objects:  94% (50/53)   \u001b[K\rremote: Compressing objects:  96% (51/53)   \u001b[K\rremote: Compressing objects:  98% (52/53)   \u001b[K\rremote: Compressing objects: 100% (53/53)   \u001b[K\rremote: Compressing objects: 100% (53/53), done.\u001b[K\n",
            "remote: Total 55 (delta 20), reused 0 (delta 0), pack-reused 0\u001b[K\n",
            "Unpacking objects: 100% (55/55), done.\n"
          ],
          "name": "stdout"
        }
      ]
    },
    {
      "cell_type": "code",
      "metadata": {
        "id": "EQU2hgRtLpOe",
        "colab_type": "code",
        "colab": {}
      },
      "source": [
        "# Set our working directory to the dataset folder\n",
        "import os\n",
        "os.chdir('DS-Training/datasets')"
      ],
      "execution_count": 0,
      "outputs": []
    },
    {
      "cell_type": "code",
      "metadata": {
        "id": "sJKAx1UrArvN",
        "colab_type": "code",
        "colab": {}
      },
      "source": [
        "# import the Iris dataset\n",
        "import pandas as pd\n",
        "df = pd.read_csv('iris.csv')"
      ],
      "execution_count": 0,
      "outputs": []
    },
    {
      "cell_type": "markdown",
      "metadata": {
        "id": "8KQi2wx4Gpwn",
        "colab_type": "text"
      },
      "source": [
        "Perform some initial EDA on the Iris dataset below.\n",
        "\n",
        "Get the following information:\n",
        "\n",
        "\n",
        "*   First 5 lines of our data\n",
        "*   Dataset information\n",
        "*   Descriptive statistics\n",
        "*   Shape of our data\n",
        "*   How many of our target label classes?\n",
        "\n",
        "\n"
      ]
    },
    {
      "cell_type": "code",
      "metadata": {
        "id": "BiDoLpYhGdeB",
        "colab_type": "code",
        "outputId": "98ea0703-eba3-42b8-940e-e8fc9767fcc2",
        "colab": {
          "base_uri": "https://localhost:8080/",
          "height": 204
        }
      },
      "source": [
        "# Look at the first five lines of our data\n",
        "df.head(n=5)"
      ],
      "execution_count": 0,
      "outputs": [
        {
          "output_type": "execute_result",
          "data": {
            "text/html": [
              "<div>\n",
              "<style scoped>\n",
              "    .dataframe tbody tr th:only-of-type {\n",
              "        vertical-align: middle;\n",
              "    }\n",
              "\n",
              "    .dataframe tbody tr th {\n",
              "        vertical-align: top;\n",
              "    }\n",
              "\n",
              "    .dataframe thead th {\n",
              "        text-align: right;\n",
              "    }\n",
              "</style>\n",
              "<table border=\"1\" class=\"dataframe\">\n",
              "  <thead>\n",
              "    <tr style=\"text-align: right;\">\n",
              "      <th></th>\n",
              "      <th>5.1</th>\n",
              "      <th>3.5</th>\n",
              "      <th>1.4</th>\n",
              "      <th>0.2</th>\n",
              "      <th>Iris-setosa</th>\n",
              "    </tr>\n",
              "  </thead>\n",
              "  <tbody>\n",
              "    <tr>\n",
              "      <th>0</th>\n",
              "      <td>4.9</td>\n",
              "      <td>3.0</td>\n",
              "      <td>1.4</td>\n",
              "      <td>0.2</td>\n",
              "      <td>Iris-setosa</td>\n",
              "    </tr>\n",
              "    <tr>\n",
              "      <th>1</th>\n",
              "      <td>4.7</td>\n",
              "      <td>3.2</td>\n",
              "      <td>1.3</td>\n",
              "      <td>0.2</td>\n",
              "      <td>Iris-setosa</td>\n",
              "    </tr>\n",
              "    <tr>\n",
              "      <th>2</th>\n",
              "      <td>4.6</td>\n",
              "      <td>3.1</td>\n",
              "      <td>1.5</td>\n",
              "      <td>0.2</td>\n",
              "      <td>Iris-setosa</td>\n",
              "    </tr>\n",
              "    <tr>\n",
              "      <th>3</th>\n",
              "      <td>5.0</td>\n",
              "      <td>3.6</td>\n",
              "      <td>1.4</td>\n",
              "      <td>0.2</td>\n",
              "      <td>Iris-setosa</td>\n",
              "    </tr>\n",
              "    <tr>\n",
              "      <th>4</th>\n",
              "      <td>5.4</td>\n",
              "      <td>3.9</td>\n",
              "      <td>1.7</td>\n",
              "      <td>0.4</td>\n",
              "      <td>Iris-setosa</td>\n",
              "    </tr>\n",
              "  </tbody>\n",
              "</table>\n",
              "</div>"
            ],
            "text/plain": [
              "   5.1  3.5  1.4  0.2  Iris-setosa\n",
              "0  4.9  3.0  1.4  0.2  Iris-setosa\n",
              "1  4.7  3.2  1.3  0.2  Iris-setosa\n",
              "2  4.6  3.1  1.5  0.2  Iris-setosa\n",
              "3  5.0  3.6  1.4  0.2  Iris-setosa\n",
              "4  5.4  3.9  1.7  0.4  Iris-setosa"
            ]
          },
          "metadata": {
            "tags": []
          },
          "execution_count": 25
        }
      ]
    },
    {
      "cell_type": "markdown",
      "metadata": {
        "id": "Gc91ucB8jymW",
        "colab_type": "text"
      },
      "source": [
        "sepal length in cm \n",
        "2. sepal width in cm \n",
        "3. petal length in cm \n",
        "4. petal width in cm "
      ]
    },
    {
      "cell_type": "code",
      "metadata": {
        "id": "wHfbeu5FjvYI",
        "colab_type": "code",
        "outputId": "f181cee8-e133-4eee-b77b-4f7217a42831",
        "colab": {
          "base_uri": "https://localhost:8080/",
          "height": 204
        }
      },
      "source": [
        "names = ['sep_w','sep_l','pet_l','pet_w','species']\n",
        "df = pd.read_csv('iris.csv', names=names)\n",
        "df.head()"
      ],
      "execution_count": 0,
      "outputs": [
        {
          "output_type": "execute_result",
          "data": {
            "text/html": [
              "<div>\n",
              "<style scoped>\n",
              "    .dataframe tbody tr th:only-of-type {\n",
              "        vertical-align: middle;\n",
              "    }\n",
              "\n",
              "    .dataframe tbody tr th {\n",
              "        vertical-align: top;\n",
              "    }\n",
              "\n",
              "    .dataframe thead th {\n",
              "        text-align: right;\n",
              "    }\n",
              "</style>\n",
              "<table border=\"1\" class=\"dataframe\">\n",
              "  <thead>\n",
              "    <tr style=\"text-align: right;\">\n",
              "      <th></th>\n",
              "      <th>sep_w</th>\n",
              "      <th>sep_l</th>\n",
              "      <th>pet_l</th>\n",
              "      <th>pet_w</th>\n",
              "      <th>species</th>\n",
              "    </tr>\n",
              "  </thead>\n",
              "  <tbody>\n",
              "    <tr>\n",
              "      <th>0</th>\n",
              "      <td>5.1</td>\n",
              "      <td>3.5</td>\n",
              "      <td>1.4</td>\n",
              "      <td>0.2</td>\n",
              "      <td>Iris-setosa</td>\n",
              "    </tr>\n",
              "    <tr>\n",
              "      <th>1</th>\n",
              "      <td>4.9</td>\n",
              "      <td>3.0</td>\n",
              "      <td>1.4</td>\n",
              "      <td>0.2</td>\n",
              "      <td>Iris-setosa</td>\n",
              "    </tr>\n",
              "    <tr>\n",
              "      <th>2</th>\n",
              "      <td>4.7</td>\n",
              "      <td>3.2</td>\n",
              "      <td>1.3</td>\n",
              "      <td>0.2</td>\n",
              "      <td>Iris-setosa</td>\n",
              "    </tr>\n",
              "    <tr>\n",
              "      <th>3</th>\n",
              "      <td>4.6</td>\n",
              "      <td>3.1</td>\n",
              "      <td>1.5</td>\n",
              "      <td>0.2</td>\n",
              "      <td>Iris-setosa</td>\n",
              "    </tr>\n",
              "    <tr>\n",
              "      <th>4</th>\n",
              "      <td>5.0</td>\n",
              "      <td>3.6</td>\n",
              "      <td>1.4</td>\n",
              "      <td>0.2</td>\n",
              "      <td>Iris-setosa</td>\n",
              "    </tr>\n",
              "  </tbody>\n",
              "</table>\n",
              "</div>"
            ],
            "text/plain": [
              "   sep_w  sep_l  pet_l  pet_w      species\n",
              "0    5.1    3.5    1.4    0.2  Iris-setosa\n",
              "1    4.9    3.0    1.4    0.2  Iris-setosa\n",
              "2    4.7    3.2    1.3    0.2  Iris-setosa\n",
              "3    4.6    3.1    1.5    0.2  Iris-setosa\n",
              "4    5.0    3.6    1.4    0.2  Iris-setosa"
            ]
          },
          "metadata": {
            "tags": []
          },
          "execution_count": 26
        }
      ]
    },
    {
      "cell_type": "code",
      "metadata": {
        "id": "h8X8OnpEIKNn",
        "colab_type": "code",
        "outputId": "920421f0-57b5-49dd-fd5f-3c63a183a651",
        "colab": {
          "base_uri": "https://localhost:8080/",
          "height": 34
        }
      },
      "source": [
        "# What's the shape?\n",
        "df.shape"
      ],
      "execution_count": 0,
      "outputs": [
        {
          "output_type": "execute_result",
          "data": {
            "text/plain": [
              "(150, 5)"
            ]
          },
          "metadata": {
            "tags": []
          },
          "execution_count": 28
        }
      ]
    },
    {
      "cell_type": "code",
      "metadata": {
        "id": "rgKg4FtEIPg9",
        "colab_type": "code",
        "outputId": "2736e987-598a-4e77-9752-bde5cd8cbcea",
        "colab": {
          "base_uri": "https://localhost:8080/",
          "height": 297
        }
      },
      "source": [
        "# Get the statistics\n",
        "df.describe()"
      ],
      "execution_count": 0,
      "outputs": [
        {
          "output_type": "execute_result",
          "data": {
            "text/html": [
              "<div>\n",
              "<style scoped>\n",
              "    .dataframe tbody tr th:only-of-type {\n",
              "        vertical-align: middle;\n",
              "    }\n",
              "\n",
              "    .dataframe tbody tr th {\n",
              "        vertical-align: top;\n",
              "    }\n",
              "\n",
              "    .dataframe thead th {\n",
              "        text-align: right;\n",
              "    }\n",
              "</style>\n",
              "<table border=\"1\" class=\"dataframe\">\n",
              "  <thead>\n",
              "    <tr style=\"text-align: right;\">\n",
              "      <th></th>\n",
              "      <th>sep_w</th>\n",
              "      <th>sep_l</th>\n",
              "      <th>pet_l</th>\n",
              "      <th>pet_w</th>\n",
              "    </tr>\n",
              "  </thead>\n",
              "  <tbody>\n",
              "    <tr>\n",
              "      <th>count</th>\n",
              "      <td>150.000000</td>\n",
              "      <td>150.000000</td>\n",
              "      <td>150.000000</td>\n",
              "      <td>150.000000</td>\n",
              "    </tr>\n",
              "    <tr>\n",
              "      <th>mean</th>\n",
              "      <td>5.843333</td>\n",
              "      <td>3.054000</td>\n",
              "      <td>3.758667</td>\n",
              "      <td>1.198667</td>\n",
              "    </tr>\n",
              "    <tr>\n",
              "      <th>std</th>\n",
              "      <td>0.828066</td>\n",
              "      <td>0.433594</td>\n",
              "      <td>1.764420</td>\n",
              "      <td>0.763161</td>\n",
              "    </tr>\n",
              "    <tr>\n",
              "      <th>min</th>\n",
              "      <td>4.300000</td>\n",
              "      <td>2.000000</td>\n",
              "      <td>1.000000</td>\n",
              "      <td>0.100000</td>\n",
              "    </tr>\n",
              "    <tr>\n",
              "      <th>25%</th>\n",
              "      <td>5.100000</td>\n",
              "      <td>2.800000</td>\n",
              "      <td>1.600000</td>\n",
              "      <td>0.300000</td>\n",
              "    </tr>\n",
              "    <tr>\n",
              "      <th>50%</th>\n",
              "      <td>5.800000</td>\n",
              "      <td>3.000000</td>\n",
              "      <td>4.350000</td>\n",
              "      <td>1.300000</td>\n",
              "    </tr>\n",
              "    <tr>\n",
              "      <th>75%</th>\n",
              "      <td>6.400000</td>\n",
              "      <td>3.300000</td>\n",
              "      <td>5.100000</td>\n",
              "      <td>1.800000</td>\n",
              "    </tr>\n",
              "    <tr>\n",
              "      <th>max</th>\n",
              "      <td>7.900000</td>\n",
              "      <td>4.400000</td>\n",
              "      <td>6.900000</td>\n",
              "      <td>2.500000</td>\n",
              "    </tr>\n",
              "  </tbody>\n",
              "</table>\n",
              "</div>"
            ],
            "text/plain": [
              "            sep_w       sep_l       pet_l       pet_w\n",
              "count  150.000000  150.000000  150.000000  150.000000\n",
              "mean     5.843333    3.054000    3.758667    1.198667\n",
              "std      0.828066    0.433594    1.764420    0.763161\n",
              "min      4.300000    2.000000    1.000000    0.100000\n",
              "25%      5.100000    2.800000    1.600000    0.300000\n",
              "50%      5.800000    3.000000    4.350000    1.300000\n",
              "75%      6.400000    3.300000    5.100000    1.800000\n",
              "max      7.900000    4.400000    6.900000    2.500000"
            ]
          },
          "metadata": {
            "tags": []
          },
          "execution_count": 29
        }
      ]
    },
    {
      "cell_type": "code",
      "metadata": {
        "id": "4LmNes1EIT0C",
        "colab_type": "code",
        "outputId": "f713a2d6-29dd-4304-f6bb-b341cc720271",
        "colab": {
          "base_uri": "https://localhost:8080/",
          "height": 102
        }
      },
      "source": [
        "# How many of each target label class?\n",
        "df.groupby('species').size()"
      ],
      "execution_count": 0,
      "outputs": [
        {
          "output_type": "execute_result",
          "data": {
            "text/plain": [
              "species\n",
              "Iris-setosa        50\n",
              "Iris-versicolor    50\n",
              "Iris-virginica     50\n",
              "dtype: int64"
            ]
          },
          "metadata": {
            "tags": []
          },
          "execution_count": 30
        }
      ]
    },
    {
      "cell_type": "markdown",
      "metadata": {
        "id": "qxE8ioR9ElTe",
        "colab_type": "text"
      },
      "source": [
        "## LabelEncoding\n",
        "\n",
        "XGBoost models represent all problems as a regression predictive modeling problem that only takes numerical values as input. \n",
        "\n",
        "Label encoding is a way to do this\n",
        "\n"
      ]
    },
    {
      "cell_type": "code",
      "metadata": {
        "id": "FqTsGVcTFkd-",
        "colab_type": "code",
        "colab": {}
      },
      "source": [
        "# What function in sklearn.preprocessing does label encoding?\n",
        "from sklearn import preprocessing\n",
        "from sklearn.preprocessing import LabelEncoder"
      ],
      "execution_count": 0,
      "outputs": []
    },
    {
      "cell_type": "code",
      "metadata": {
        "id": "LZUZ2junMOzb",
        "colab_type": "code",
        "colab": {}
      },
      "source": [
        "# split data into x (features) and y (target variable)\n",
        "data = df.values\n",
        "x = data[:, 0:4]\n",
        "y = data[:,4]"
      ],
      "execution_count": 0,
      "outputs": []
    },
    {
      "cell_type": "code",
      "metadata": {
        "id": "1zwrHRoLnzYy",
        "colab_type": "code",
        "outputId": "0636ac91-753c-4b5a-f92f-27378de771ed",
        "colab": {
          "base_uri": "https://localhost:8080/",
          "height": 612
        }
      },
      "source": [
        "print (y)"
      ],
      "execution_count": 0,
      "outputs": [
        {
          "output_type": "stream",
          "text": [
            "['Iris-setosa' 'Iris-setosa' 'Iris-setosa' 'Iris-setosa' 'Iris-setosa'\n",
            " 'Iris-setosa' 'Iris-setosa' 'Iris-setosa' 'Iris-setosa' 'Iris-setosa'\n",
            " 'Iris-setosa' 'Iris-setosa' 'Iris-setosa' 'Iris-setosa' 'Iris-setosa'\n",
            " 'Iris-setosa' 'Iris-setosa' 'Iris-setosa' 'Iris-setosa' 'Iris-setosa'\n",
            " 'Iris-setosa' 'Iris-setosa' 'Iris-setosa' 'Iris-setosa' 'Iris-setosa'\n",
            " 'Iris-setosa' 'Iris-setosa' 'Iris-setosa' 'Iris-setosa' 'Iris-setosa'\n",
            " 'Iris-setosa' 'Iris-setosa' 'Iris-setosa' 'Iris-setosa' 'Iris-setosa'\n",
            " 'Iris-setosa' 'Iris-setosa' 'Iris-setosa' 'Iris-setosa' 'Iris-setosa'\n",
            " 'Iris-setosa' 'Iris-setosa' 'Iris-setosa' 'Iris-setosa' 'Iris-setosa'\n",
            " 'Iris-setosa' 'Iris-setosa' 'Iris-setosa' 'Iris-setosa' 'Iris-setosa'\n",
            " 'Iris-versicolor' 'Iris-versicolor' 'Iris-versicolor' 'Iris-versicolor'\n",
            " 'Iris-versicolor' 'Iris-versicolor' 'Iris-versicolor' 'Iris-versicolor'\n",
            " 'Iris-versicolor' 'Iris-versicolor' 'Iris-versicolor' 'Iris-versicolor'\n",
            " 'Iris-versicolor' 'Iris-versicolor' 'Iris-versicolor' 'Iris-versicolor'\n",
            " 'Iris-versicolor' 'Iris-versicolor' 'Iris-versicolor' 'Iris-versicolor'\n",
            " 'Iris-versicolor' 'Iris-versicolor' 'Iris-versicolor' 'Iris-versicolor'\n",
            " 'Iris-versicolor' 'Iris-versicolor' 'Iris-versicolor' 'Iris-versicolor'\n",
            " 'Iris-versicolor' 'Iris-versicolor' 'Iris-versicolor' 'Iris-versicolor'\n",
            " 'Iris-versicolor' 'Iris-versicolor' 'Iris-versicolor' 'Iris-versicolor'\n",
            " 'Iris-versicolor' 'Iris-versicolor' 'Iris-versicolor' 'Iris-versicolor'\n",
            " 'Iris-versicolor' 'Iris-versicolor' 'Iris-versicolor' 'Iris-versicolor'\n",
            " 'Iris-versicolor' 'Iris-versicolor' 'Iris-versicolor' 'Iris-versicolor'\n",
            " 'Iris-versicolor' 'Iris-versicolor' 'Iris-virginica' 'Iris-virginica'\n",
            " 'Iris-virginica' 'Iris-virginica' 'Iris-virginica' 'Iris-virginica'\n",
            " 'Iris-virginica' 'Iris-virginica' 'Iris-virginica' 'Iris-virginica'\n",
            " 'Iris-virginica' 'Iris-virginica' 'Iris-virginica' 'Iris-virginica'\n",
            " 'Iris-virginica' 'Iris-virginica' 'Iris-virginica' 'Iris-virginica'\n",
            " 'Iris-virginica' 'Iris-virginica' 'Iris-virginica' 'Iris-virginica'\n",
            " 'Iris-virginica' 'Iris-virginica' 'Iris-virginica' 'Iris-virginica'\n",
            " 'Iris-virginica' 'Iris-virginica' 'Iris-virginica' 'Iris-virginica'\n",
            " 'Iris-virginica' 'Iris-virginica' 'Iris-virginica' 'Iris-virginica'\n",
            " 'Iris-virginica' 'Iris-virginica' 'Iris-virginica' 'Iris-virginica'\n",
            " 'Iris-virginica' 'Iris-virginica' 'Iris-virginica' 'Iris-virginica'\n",
            " 'Iris-virginica' 'Iris-virginica' 'Iris-virginica' 'Iris-virginica'\n",
            " 'Iris-virginica' 'Iris-virginica' 'Iris-virginica' 'Iris-virginica']\n"
          ],
          "name": "stdout"
        }
      ]
    },
    {
      "cell_type": "code",
      "metadata": {
        "id": "hr3M_8w2GTmu",
        "colab_type": "code",
        "outputId": "24bbef7f-5513-4b55-bbcb-ccc9c906e642",
        "colab": {
          "base_uri": "https://localhost:8080/",
          "height": 102
        }
      },
      "source": [
        "# instantiate the label encoder function\n",
        "le = LabelEncoder()\n",
        "\n",
        "# fit the label encoder to your data\n",
        "le = le.fit(y)\n",
        "\n",
        "# transform your data with the label encoder\n",
        "le_y = le.transform(y)\n",
        "\n",
        "# look at your encoded target classes now\n",
        "print(le_y)"
      ],
      "execution_count": 0,
      "outputs": [
        {
          "output_type": "stream",
          "text": [
            "[0 0 0 0 0 0 0 0 0 0 0 0 0 0 0 0 0 0 0 0 0 0 0 0 0 0 0 0 0 0 0 0 0 0 0 0 0\n",
            " 0 0 0 0 0 0 0 0 0 0 0 0 0 1 1 1 1 1 1 1 1 1 1 1 1 1 1 1 1 1 1 1 1 1 1 1 1\n",
            " 1 1 1 1 1 1 1 1 1 1 1 1 1 1 1 1 1 1 1 1 1 1 1 1 1 1 2 2 2 2 2 2 2 2 2 2 2\n",
            " 2 2 2 2 2 2 2 2 2 2 2 2 2 2 2 2 2 2 2 2 2 2 2 2 2 2 2 2 2 2 2 2 2 2 2 2 2\n",
            " 2 2]\n"
          ],
          "name": "stdout"
        }
      ]
    },
    {
      "cell_type": "markdown",
      "metadata": {
        "id": "xHgIl-S7eBZh",
        "colab_type": "text"
      },
      "source": [
        "What's the difference between ordinal and nominal data?"
      ]
    },
    {
      "cell_type": "markdown",
      "metadata": {
        "id": "iiCArzXINSyP",
        "colab_type": "text"
      },
      "source": [
        "## Running XGBoost\n",
        "\n",
        "We will cover XGBoost and other classifiers more in depth in the next lesson. For now we will just run through it"
      ]
    },
    {
      "cell_type": "code",
      "metadata": {
        "id": "MmZcAbxZNRss",
        "colab_type": "code",
        "colab": {}
      },
      "source": [
        "# Import Software dependencies\n",
        "import xgboost\n",
        "from sklearn import model_selection\n",
        "from sklearn.metrics import accuracy_score"
      ],
      "execution_count": 0,
      "outputs": []
    },
    {
      "cell_type": "code",
      "metadata": {
        "id": "jOSwJFqoN4-f",
        "colab_type": "code",
        "outputId": "3f1aee5f-20cb-4554-d112-169ec28f809a",
        "colab": {
          "base_uri": "https://localhost:8080/",
          "height": 136
        }
      },
      "source": [
        "# split data into training and testing\n",
        "x_train, x_test, y_train, y_test = model_selection.train_test_split(x, le_y, test_size=0.33, random_state=0)\n",
        "\n",
        "# fit model on training data\n",
        "model = xgboost.XGBClassifier()\n",
        "model.fit(x_train, y_train)\n",
        "print(model)\n"
      ],
      "execution_count": 0,
      "outputs": [
        {
          "output_type": "stream",
          "text": [
            "XGBClassifier(base_score=0.5, booster='gbtree', colsample_bylevel=1,\n",
            "              colsample_bynode=1, colsample_bytree=1, gamma=0,\n",
            "              learning_rate=0.1, max_delta_step=0, max_depth=3,\n",
            "              min_child_weight=1, missing=None, n_estimators=100, n_jobs=1,\n",
            "              nthread=None, objective='multi:softprob', random_state=0,\n",
            "              reg_alpha=0, reg_lambda=1, scale_pos_weight=1, seed=None,\n",
            "              silent=None, subsample=1, verbosity=1)\n"
          ],
          "name": "stdout"
        }
      ]
    },
    {
      "cell_type": "code",
      "metadata": {
        "id": "-YLu1RJ5OF-d",
        "colab_type": "code",
        "outputId": "037ba116-a78f-4909-c687-f89c14ada0fb",
        "colab": {
          "base_uri": "https://localhost:8080/",
          "height": 34
        }
      },
      "source": [
        "# make predictions for test data\n",
        "y_pred = model.predict(x_test)\n",
        "predictions = [round(value) for value in y_pred]\n",
        "\n",
        "# evaluate predictions\n",
        "accuracy = accuracy_score(y_test, predictions)\n",
        "print(\"Accuracy: %.2f%%\" % (accuracy * 100.0))"
      ],
      "execution_count": 0,
      "outputs": [
        {
          "output_type": "stream",
          "text": [
            "Accuracy: 96.00%\n"
          ],
          "name": "stdout"
        }
      ]
    },
    {
      "cell_type": "markdown",
      "metadata": {
        "id": "OhEsXnCEPaLY",
        "colab_type": "text"
      },
      "source": [
        "## One-Hot Encoding\n",
        "\n",
        "For datasets that only contain categorical data, like the breast cancer dataset, we need to do one hot encoding.\n",
        "\n",
        "Dataset: breast-cancer\n",
        "\n",
        "http://archive.ics.uci.edu/ml/datasets/Breast+Cancer"
      ]
    },
    {
      "cell_type": "code",
      "metadata": {
        "id": "iXYiN7I3RCI7",
        "colab_type": "code",
        "colab": {}
      },
      "source": [
        "# binary classification, breast cancer dataset, label and one hot encoded\n",
        "import numpy as np\n",
        "from pandas import read_csv\n",
        "from xgboost import XGBClassifier\n",
        "from sklearn.model_selection import train_test_split\n",
        "from sklearn.metrics import accuracy_score\n",
        "\n",
        "# What sklearn.preprocessing function performs one hot encoding? import the one hote encoding and label encoding modules\n",
        "from sklearn.preprocessing import _______\n",
        "from sklearn.preprocessing import _______\n"
      ],
      "execution_count": 0,
      "outputs": []
    },
    {
      "cell_type": "code",
      "metadata": {
        "id": "3gbYTkiMSJ8v",
        "colab_type": "code",
        "colab": {}
      },
      "source": [
        "# load data\n",
        "\n"
      ],
      "execution_count": 0,
      "outputs": []
    },
    {
      "cell_type": "markdown",
      "metadata": {
        "id": "ylsXGk4ieetM",
        "colab_type": "text"
      },
      "source": [
        "###Perform some quick EDA on the breast cancer dataset. Get the same information as above"
      ]
    },
    {
      "cell_type": "code",
      "metadata": {
        "id": "T3kk3jJqeUfP",
        "colab_type": "code",
        "colab": {}
      },
      "source": [
        "# look at the first few lines of the dataset\n",
        "df.head(n=5)"
      ],
      "execution_count": 0,
      "outputs": []
    },
    {
      "cell_type": "code",
      "metadata": {
        "id": "J-PyNWyMfRDE",
        "colab_type": "code",
        "colab": {}
      },
      "source": [
        "df.info()"
      ],
      "execution_count": 0,
      "outputs": []
    },
    {
      "cell_type": "markdown",
      "metadata": {
        "id": "1vQxvLo3fhek",
        "colab_type": "text"
      },
      "source": [
        "We need to perform one hot encoding. \n",
        "\n",
        "**Example:**\n",
        "\n",
        "left-up, left-low, right-up, right-low, central\n",
        "\n",
        "1,0,0,0,0\n",
        "\n",
        "0,1,0,0,0\n",
        "\n",
        "0,0,1,0,0\n",
        "\n",
        "0,0,0,1,0\n",
        "\n",
        "0,0,0,0,1"
      ]
    },
    {
      "cell_type": "code",
      "metadata": {
        "id": "tglzcOQ8S30h",
        "colab_type": "code",
        "colab": {}
      },
      "source": [
        "# split data into x and y\n",
        "data = df.values\n",
        "x = data[____]\n",
        "x = x.astype(str)\n",
        "y = data[____]\n"
      ],
      "execution_count": 0,
      "outputs": []
    },
    {
      "cell_type": "code",
      "metadata": {
        "id": "mRBi1yY5SPD2",
        "colab_type": "code",
        "colab": {}
      },
      "source": [
        "# encode string input values as integers\n",
        "encoded_x = None\n",
        "for i in range(0, x.shape[1]):\n",
        "\t#instantiate label encoder\n",
        "  le = _____()\n",
        "  \n",
        "  # fit and transform the data with the label encoder\n",
        "\tfeature = le.fit_transform(x[:,i])\n",
        "\tfeature = feature.reshape(x.shape[0], 1)\n",
        "  \n",
        "  # instantiate the one hot encoder function\n",
        "\tonehot_encoder = ________(sparse=False)\n",
        "\tfeature = onehot_encoder.fit_transform(feature)\n",
        "\tif encoded_x is None:\n",
        "\t\tencoded_x = feature\n",
        "\telse:\n",
        "\t\tencoded_x = np.concatenate((encoded_x, feature), axis=1)\n",
        "print(\"x shape: : \", encoded_x.shape)"
      ],
      "execution_count": 0,
      "outputs": []
    },
    {
      "cell_type": "code",
      "metadata": {
        "id": "hMKpxHJeSSYp",
        "colab_type": "code",
        "colab": {}
      },
      "source": [
        "# encode string class values as integers\n",
        "# instantiate label encoder for your target variable\n",
        "label_encoder = _____()\n",
        "\n",
        "# fit and transform your data with the label encoder\n",
        "label_encoder = label_encoder.fit(y)\n",
        "label_encoded_y = label_encoder.transform(y)\n"
      ],
      "execution_count": 0,
      "outputs": []
    },
    {
      "cell_type": "markdown",
      "metadata": {
        "id": "USb862mwSeow",
        "colab_type": "text"
      },
      "source": [
        "Running through XGBClassifier"
      ]
    },
    {
      "cell_type": "code",
      "metadata": {
        "id": "hLGmZV-kSWYv",
        "colab_type": "code",
        "colab": {}
      },
      "source": [
        "# split data into train and test sets\n",
        "x_train, x_test, y_train, y_test = train_test_split(encoded_x, label_encoded_y, test_size=0.3, random_state=0)\n",
        "# fit model no training data\n",
        "model = XGBClassifier()\n",
        "model.fit(x_train, y_train)\n",
        "print(model)\n",
        "# make predictions for test data\n",
        "y_pred = model.predict(x_test)\n",
        "predictions = [round(value) for value in y_pred]\n",
        "# evaluate predictions\n",
        "accuracy = accuracy_score(y_test, predictions)\n",
        "print(\"Accuracy: %.2f%%\" % (accuracy * 100.0))"
      ],
      "execution_count": 0,
      "outputs": []
    }
  ]
}