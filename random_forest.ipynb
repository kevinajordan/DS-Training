{
  "nbformat": 4,
  "nbformat_minor": 0,
  "metadata": {
    "colab": {
      "name": "random_forest.ipynb",
      "version": "0.3.2",
      "provenance": [],
      "collapsed_sections": [],
      "include_colab_link": true
    },
    "kernelspec": {
      "name": "python3",
      "display_name": "Python 3"
    }
  },
  "cells": [
    {
      "cell_type": "markdown",
      "metadata": {
        "id": "view-in-github",
        "colab_type": "text"
      },
      "source": [
        "<a href=\"https://colab.research.google.com/github/kevinajordan/DS-Training/blob/master/random_forest.ipynb\" target=\"_parent\"><img src=\"https://colab.research.google.com/assets/colab-badge.svg\" alt=\"Open In Colab\"/></a>"
      ]
    },
    {
      "cell_type": "markdown",
      "metadata": {
        "id": "GGDm25AWUstY",
        "colab_type": "text"
      },
      "source": [
        "# Random Forests\n",
        "\n",
        "Random forests creates decision trees on randomly selected data samples, gets prediction from each tree and selects the best solution by means of voting. It has a variety of applications, such as recommendation engines, image classification and feature selection. It can be used to classify loyal loan applicants, identify fraudulent activity and predict diseases. \n",
        "\n",
        "## Random Forests vs Decision Trees\n",
        "* Random forests is a set of multiple decision trees.\n",
        "* Deep decision trees may suffer from overfitting, but random forests prevents overfitting by creating trees on random subsets.\n",
        "* Decision trees are computationally faster.\n",
        "* Random forests is difficult to interpret, while a decision tree is easily interpretable and can be converted to rules.\n",
        "\n"
      ]
    },
    {
      "cell_type": "code",
      "metadata": {
        "id": "xsJQQkXVWAA8",
        "colab_type": "code",
        "colab": {}
      },
      "source": [
        "#Import scikit-learn dataset library\n",
        "from sklearn import datasets\n",
        "\n",
        "#Load dataset\n",
        "iris = datasets.load_iris()"
      ],
      "execution_count": 0,
      "outputs": []
    },
    {
      "cell_type": "code",
      "metadata": {
        "id": "eB_WJIwnW9AP",
        "colab_type": "code",
        "colab": {}
      },
      "source": [
        "# print the label species(setosa, versicolor,virginica)\n",
        "print(iris.____)\n",
        "\n",
        "# print the names of the four features\n",
        "print(iris.______)"
      ],
      "execution_count": 0,
      "outputs": []
    },
    {
      "cell_type": "markdown",
      "metadata": {
        "id": "AqKDYYHCnW4v",
        "colab_type": "text"
      },
      "source": [
        "<!--\n",
        "iris.target_names\n",
        "iris.feature_names\n",
        "-->"
      ]
    },
    {
      "cell_type": "code",
      "metadata": {
        "id": "vtkMItHWXBDn",
        "colab_type": "code",
        "colab": {}
      },
      "source": [
        "# print the iris data (top 5 records)\n",
        "print(iris.____[0:5])\n",
        "\n",
        "# print the iris labels (0:setosa, 1:versicolor, 2:virginica)\n",
        "print(iris.____)"
      ],
      "execution_count": 0,
      "outputs": []
    },
    {
      "cell_type": "markdown",
      "metadata": {
        "id": "4KL47sSPngHX",
        "colab_type": "text"
      },
      "source": [
        "<!--\n",
        "iris.data\n",
        "iris.labels\n",
        "-->"
      ]
    },
    {
      "cell_type": "code",
      "metadata": {
        "id": "rmJD4wjsXGX3",
        "colab_type": "code",
        "colab": {}
      },
      "source": [
        "# Creating a Pandas DataFrame of given iris dataset.\n",
        "_____\n",
        "data.head()"
      ],
      "execution_count": 0,
      "outputs": []
    },
    {
      "cell_type": "markdown",
      "metadata": {
        "id": "t9ZsoILDTDGO",
        "colab_type": "text"
      },
      "source": [
        "<!--\n",
        "import pandas as pd\n",
        "data=pd.DataFrame({\n",
        "    'sepal length':iris.data[:,0],\n",
        "    'sepal width':iris.data[:,1],\n",
        "    'petal length':iris.data[:,2],\n",
        "    'petal width':iris.data[:,3],\n",
        "    'species':iris.target\n",
        "})\n",
        "-->"
      ]
    },
    {
      "cell_type": "code",
      "metadata": {
        "id": "tXt7WABBXKBX",
        "colab_type": "code",
        "colab": {}
      },
      "source": [
        "# Import train_test_split function\n",
        "from sklearn._________ import ______\n",
        "\n",
        "X = data[['sepal length', 'sepal width', 'petal length', 'petal width']]  # Features\n",
        "y = data['species']  # Labels\n",
        "\n",
        "# Split dataset into training set and test set\n",
        "X_train, X_test, y_train, y_test = ______(X, y, test_size=0.3)"
      ],
      "execution_count": 0,
      "outputs": []
    },
    {
      "cell_type": "code",
      "metadata": {
        "id": "1fBtHmc4XOVX",
        "colab_type": "code",
        "colab": {}
      },
      "source": [
        "#Import Random Forest Model\n",
        "from sklearn.______ import _______\n",
        "\n",
        "#Create a Gaussian Classifier\n",
        "clf=_______(n_estimators=100)\n",
        "\n",
        "#Train the model using the training sets \n",
        "clf.____(X_train,y_train)\n",
        "\n",
        "# make predictions\n",
        "y_pred=clf._____(X_test)"
      ],
      "execution_count": 0,
      "outputs": []
    },
    {
      "cell_type": "markdown",
      "metadata": {
        "id": "Pg1bWC64nuYL",
        "colab_type": "text"
      },
      "source": [
        "<!--\n",
        "ensemble\n",
        "RandomForestClassifier\n",
        "fit\n",
        "predict\n",
        "-->"
      ]
    },
    {
      "cell_type": "code",
      "metadata": {
        "id": "Y7Wg-KLJXRxv",
        "colab_type": "code",
        "colab": {}
      },
      "source": [
        "#Import scikit-learn metrics module for accuracy calculation\n",
        "_______\n",
        "# Model Accuracy, how often is the classifier correct?\n",
        "_______"
      ],
      "execution_count": 0,
      "outputs": []
    },
    {
      "cell_type": "markdown",
      "metadata": {
        "id": "XDVM7uMsn_jH",
        "colab_type": "text"
      },
      "source": [
        "<!--\n",
        "print(\"Accuracy:\",metrics.______(y_test, y_pred))\n",
        "-->"
      ]
    },
    {
      "cell_type": "code",
      "metadata": {
        "id": "1rr52YzGXWpH",
        "colab_type": "code",
        "colab": {}
      },
      "source": [
        "# Single Prediction\n",
        "# Might this be how a service looks like for a customer?\n",
        "clf.predict([[3, 5, 4, 2]])"
      ],
      "execution_count": 0,
      "outputs": []
    },
    {
      "cell_type": "markdown",
      "metadata": {
        "id": "VFu1bZAGXv68",
        "colab_type": "text"
      },
      "source": [
        "## Finding Important Features\n"
      ]
    },
    {
      "cell_type": "code",
      "metadata": {
        "id": "J1gHESCCXcIP",
        "colab_type": "code",
        "colab": {}
      },
      "source": [
        "# Import the Random Forest classifier\n",
        "from sklearn._____ import ________\n",
        "\n",
        "#Create a Gaussian Classifier\n",
        "clf=______(_____) # What does setting n_estimators do?\n",
        "\n",
        "#Train the model using the training sets y_pred=clf.predict(X_test)\n",
        "clf._____(X_train,y_train)"
      ],
      "execution_count": 0,
      "outputs": []
    },
    {
      "cell_type": "markdown",
      "metadata": {
        "id": "pNYmkb9woiIR",
        "colab_type": "text"
      },
      "source": [
        "<!--\n",
        "clf= RandomForestClassifier(n_estimators = 100)\n",
        "-->"
      ]
    },
    {
      "cell_type": "markdown",
      "metadata": {
        "id": "HYBpuA-NYfzf",
        "colab_type": "text"
      },
      "source": [
        "How does sci-kit learn measure feature importance?"
      ]
    },
    {
      "cell_type": "code",
      "metadata": {
        "id": "PSHjk2CPXqGy",
        "colab_type": "code",
        "colab": {}
      },
      "source": [
        "# use the feature importance attribute of your classifier\n",
        "import pandas as pd\n",
        "feature_imp = pd.Series(clf._______, index=iris.feature_names).sort_values(ascending=False)\n",
        "feature_imp"
      ],
      "execution_count": 0,
      "outputs": []
    },
    {
      "cell_type": "markdown",
      "metadata": {
        "id": "dwTZTQRUTk0p",
        "colab_type": "text"
      },
      "source": [
        "<!--\n",
        "feature_imp = pd.Series(clf.feature_importances_,index=iris.feature_names).sort_values(ascending=False)\n",
        "-->"
      ]
    },
    {
      "cell_type": "markdown",
      "metadata": {
        "id": "cnLC2m5-X5NJ",
        "colab_type": "text"
      },
      "source": [
        "### Visualizing Them"
      ]
    },
    {
      "cell_type": "code",
      "metadata": {
        "id": "SnqKOMRnX3m3",
        "colab_type": "code",
        "colab": {}
      },
      "source": [
        "import matplotlib.pyplot as plt\n",
        "import seaborn as sns\n",
        "%matplotlib inline\n",
        "# Creating a bar plot\n",
        "sns.______(x=feature_imp, y=feature_imp.index)\n",
        "# Add labels to your graph\n",
        "\n",
        "# label your x-axis\n",
        "plt._____('Feature Importance Score')\n",
        "\n",
        "# label you y-axis\n",
        "plt._____('Features')\n",
        "plt.title(\"Visualizing Important Features\")\n",
        "plt.legend()\n",
        "plt.show()"
      ],
      "execution_count": 0,
      "outputs": []
    },
    {
      "cell_type": "markdown",
      "metadata": {
        "id": "LcqbFl6FYAM_",
        "colab_type": "text"
      },
      "source": [
        "## Re-Running Model With Only Important Features\n"
      ]
    },
    {
      "cell_type": "code",
      "metadata": {
        "id": "uq2fXpnOZpmI",
        "colab_type": "code",
        "colab": {}
      },
      "source": [
        "# Import train_test_split function\n",
        "________\n",
        "# Split dataset into features and labels\n",
        "X=data[['petal length', 'petal width','sepal length']]  # Removed feature \"sepal width\"\n",
        "y=data['species']                                       \n",
        "# Split dataset into training set and test set\n",
        "X_train, X_test, y_train, y_test = train_test_split(X, y, test_size=0.70, random_state=5)"
      ],
      "execution_count": 0,
      "outputs": []
    },
    {
      "cell_type": "code",
      "metadata": {
        "id": "riWKCY9JZr8u",
        "colab_type": "code",
        "colab": {}
      },
      "source": [
        "# import RandomForestClassifier\n",
        "from sklearn.ensemble import RandomForestClassifier\n",
        "\n",
        "#Create a Gaussian Classifier with number of estimators set to 100\n",
        "clf=______\n",
        "\n",
        "#Train the model using the training sets y_pred=clf.predict(X_test)\n",
        "clf.fit(X_train,y_train)\n",
        "\n",
        "# prediction on test set\n",
        "y_pred=clf.predict(X_test)\n",
        "\n",
        "#Import scikit-learn metrics module for accuracy calculation\n",
        "_______\n",
        "# Model Accuracy, how often is the classifier correct?\n",
        "_______"
      ],
      "execution_count": 0,
      "outputs": []
    }
  ]
}