{
  "nbformat": 4,
  "nbformat_minor": 0,
  "metadata": {
    "colab": {
      "name": "Data_Prep_XGBoost.ipynb",
      "version": "0.3.2",
      "provenance": [],
      "include_colab_link": true
    },
    "kernelspec": {
      "name": "python3",
      "display_name": "Python 3"
    }
  },
  "cells": [
    {
      "cell_type": "markdown",
      "metadata": {
        "id": "view-in-github",
        "colab_type": "text"
      },
      "source": [
        "<a href=\"https://colab.research.google.com/github/kevinajordan/DS-Training/blob/master/Data_Prep_XGBoost.ipynb\" target=\"_parent\"><img src=\"https://colab.research.google.com/assets/colab-badge.svg\" alt=\"Open In Colab\"/></a>"
      ]
    },
    {
      "cell_type": "markdown",
      "metadata": {
        "id": "i7G8ZQOAAyG0",
        "colab_type": "text"
      },
      "source": [
        "# Data Preparation Continued\n",
        "\n",
        "Last lesson we went over data pre-processing. We discovered the importance of scaling and normalizing your data. We also discussed handling missing data and incorrect values. The data pre-processing steps one takes is tied to a model that will be run.\n",
        "\n",
        "With this lesson we will continue with data preparation tied to a specific example of gradient boosting. You will learn about handling categorical data and one-hot encoding. You will also learn how to automatically handle missing data with XGBoost.\n",
        "\n",
        "Dataset for Today: Iris Flower\n",
        "http://archive.ics.uci.edu/ml/datasets/Iris\n",
        "\n",
        "https://scikit-learn.org/stable/auto_examples/datasets/plot_iris_dataset.html\n",
        "\n"
      ]
    },
    {
      "cell_type": "code",
      "metadata": {
        "id": "3fRHU15pLobw",
        "colab_type": "code",
        "colab": {
          "base_uri": "https://localhost:8080/",
          "height": 120
        },
        "outputId": "dacc5fb3-a652-4199-88e1-b8d2c4ebec68"
      },
      "source": [
        "# Clone DS-Training repo for datasets and skeleton code\n",
        "!git clone https://github.com/kevinajordan/DS-Training.git"
      ],
      "execution_count": 5,
      "outputs": [
        {
          "output_type": "stream",
          "text": [
            "Cloning into 'DS-Training'...\n",
            "remote: Enumerating objects: 42, done.\u001b[K\n",
            "remote: Counting objects: 100% (42/42), done.\u001b[K\n",
            "remote: Compressing objects: 100% (40/40), done.\u001b[K\n",
            "remote: Total 42 (delta 11), reused 0 (delta 0), pack-reused 0\u001b[K\n",
            "Unpacking objects: 100% (42/42), done.\n"
          ],
          "name": "stdout"
        }
      ]
    },
    {
      "cell_type": "code",
      "metadata": {
        "id": "EQU2hgRtLpOe",
        "colab_type": "code",
        "colab": {}
      },
      "source": [
        "# Set our working directory to the dataset folder\n",
        "import os\n",
        "os.chdir('DS-Training/datasets')"
      ],
      "execution_count": 0,
      "outputs": []
    },
    {
      "cell_type": "code",
      "metadata": {
        "id": "sJKAx1UrArvN",
        "colab_type": "code",
        "colab": {}
      },
      "source": [
        "# import the Iris dataset\n",
        "import pandas as pd\n",
        "df = pd.read_csv('breast-cancer.csv')"
      ],
      "execution_count": 0,
      "outputs": []
    },
    {
      "cell_type": "markdown",
      "metadata": {
        "id": "8KQi2wx4Gpwn",
        "colab_type": "text"
      },
      "source": [
        "Perform some initial EDA on the Iris dataset below.\n",
        "\n",
        "Get the following information:\n",
        "\n",
        "\n",
        "*   First 5 lines of our data\n",
        "*   Dataset information\n",
        "*   Descriptive statistics\n",
        "*   Shape of our data\n",
        "*   How many of our target label classes?\n",
        "\n",
        "\n"
      ]
    },
    {
      "cell_type": "code",
      "metadata": {
        "id": "BiDoLpYhGdeB",
        "colab_type": "code",
        "colab": {}
      },
      "source": [
        "# Look at the first five lines of our data\n",
        "df.head(n=5)"
      ],
      "execution_count": 0,
      "outputs": []
    },
    {
      "cell_type": "code",
      "metadata": {
        "id": "h8X8OnpEIKNn",
        "colab_type": "code",
        "colab": {}
      },
      "source": [
        "# What's the shape?\n",
        "print(df.shape())"
      ],
      "execution_count": 0,
      "outputs": []
    },
    {
      "cell_type": "code",
      "metadata": {
        "id": "rgKg4FtEIPg9",
        "colab_type": "code",
        "colab": {}
      },
      "source": [
        "# Get the statistics\n",
        "df.describe()"
      ],
      "execution_count": 0,
      "outputs": []
    },
    {
      "cell_type": "code",
      "metadata": {
        "id": "4LmNes1EIT0C",
        "colab_type": "code",
        "colab": {}
      },
      "source": [
        "# How many of each target label class?\n",
        "df.groupby('Species').size()"
      ],
      "execution_count": 0,
      "outputs": []
    },
    {
      "cell_type": "markdown",
      "metadata": {
        "id": "qxE8ioR9ElTe",
        "colab_type": "text"
      },
      "source": [
        "## LabelEncoding\n",
        "\n",
        "XGBoost models represent all problems as a regression predictive modeling problem that only takes numerical values as input. \n",
        "\n",
        "Label encoding is a way to do this\n",
        "\n"
      ]
    },
    {
      "cell_type": "code",
      "metadata": {
        "id": "FqTsGVcTFkd-",
        "colab_type": "code",
        "colab": {}
      },
      "source": [
        "# What function in sklearn.preprocessing does label encoding?\n",
        "from sklearn import preprocessing\n",
        "__________"
      ],
      "execution_count": 0,
      "outputs": []
    },
    {
      "cell_type": "code",
      "metadata": {
        "id": "LZUZ2junMOzb",
        "colab_type": "code",
        "colab": {}
      },
      "source": [
        "# split data into x (features) and y (target variable)\n",
        "data = df.values\n",
        "x = data[____]\n",
        "y = data[____]"
      ],
      "execution_count": 0,
      "outputs": []
    },
    {
      "cell_type": "code",
      "metadata": {
        "id": "hr3M_8w2GTmu",
        "colab_type": "code",
        "colab": {
          "base_uri": "https://localhost:8080/",
          "height": 103
        },
        "outputId": "953496e9-fba8-4a5c-f87a-4507e638ab6a"
      },
      "source": [
        "# instantiate the label encoder function\n",
        "le = ________()\n",
        "\n",
        "# fit the label encoder to your data\n",
        "le = le.____(y)\n",
        "\n",
        "# transform your data with the label encoder\n",
        "le_y = le.____(y)\n",
        "\n",
        "# look at your encoded target classes now\n",
        "print(le_y)"
      ],
      "execution_count": 11,
      "outputs": [
        {
          "output_type": "stream",
          "text": [
            "[0 0 0 0 0 0 0 0 0 0 0 0 0 0 0 0 0 0 0 0 0 0 0 0 0 0 0 0 0 0 0 0 0 0 0 0 0\n",
            " 0 0 0 0 0 0 0 0 0 0 0 0 0 1 1 1 1 1 1 1 1 1 1 1 1 1 1 1 1 1 1 1 1 1 1 1 1\n",
            " 1 1 1 1 1 1 1 1 1 1 1 1 1 1 1 1 1 1 1 1 1 1 1 1 1 1 2 2 2 2 2 2 2 2 2 2 2\n",
            " 2 2 2 2 2 2 2 2 2 2 2 2 2 2 2 2 2 2 2 2 2 2 2 2 2 2 2 2 2 2 2 2 2 2 2 2 2\n",
            " 2 2]\n"
          ],
          "name": "stdout"
        }
      ]
    },
    {
      "cell_type": "markdown",
      "metadata": {
        "id": "xHgIl-S7eBZh",
        "colab_type": "text"
      },
      "source": [
        "What's the difference between ordinal and nominal data?"
      ]
    },
    {
      "cell_type": "markdown",
      "metadata": {
        "id": "iiCArzXINSyP",
        "colab_type": "text"
      },
      "source": [
        "## Running XGBoost\n",
        "\n",
        "We will cover XGBoost and other classifiers more in depth in the next lesson. For now we will just run through it"
      ]
    },
    {
      "cell_type": "code",
      "metadata": {
        "id": "MmZcAbxZNRss",
        "colab_type": "code",
        "colab": {}
      },
      "source": [
        "# Import Software dependencies\n",
        "import xgboost\n",
        "from sklearn import model_selection\n",
        "from sklearn.metrics import accuracy_score"
      ],
      "execution_count": 0,
      "outputs": []
    },
    {
      "cell_type": "code",
      "metadata": {
        "id": "jOSwJFqoN4-f",
        "colab_type": "code",
        "colab": {
          "base_uri": "https://localhost:8080/",
          "height": 137
        },
        "outputId": "6d69660b-470e-486a-9186-f78bd55d23ef"
      },
      "source": [
        "# split data into training and testing\n",
        "x_train, x_test, y_train, y_test = model_selection.train_test_split(x, le_y, test_size=0.33, random_state=0)\n",
        "\n",
        "# fit model on training data\n",
        "model = xgboost.XGBClassifier()\n",
        "model.fit(x_train, y_train)\n",
        "print(model)\n"
      ],
      "execution_count": 17,
      "outputs": [
        {
          "output_type": "stream",
          "text": [
            "XGBClassifier(base_score=0.5, booster='gbtree', colsample_bylevel=1,\n",
            "              colsample_bynode=1, colsample_bytree=1, gamma=0,\n",
            "              learning_rate=0.1, max_delta_step=0, max_depth=3,\n",
            "              min_child_weight=1, missing=None, n_estimators=100, n_jobs=1,\n",
            "              nthread=None, objective='multi:softprob', random_state=0,\n",
            "              reg_alpha=0, reg_lambda=1, scale_pos_weight=1, seed=None,\n",
            "              silent=None, subsample=1, verbosity=1)\n"
          ],
          "name": "stdout"
        }
      ]
    },
    {
      "cell_type": "code",
      "metadata": {
        "id": "-YLu1RJ5OF-d",
        "colab_type": "code",
        "colab": {
          "base_uri": "https://localhost:8080/",
          "height": 34
        },
        "outputId": "8c51144e-9c9a-4ff5-9005-fc2d29b459f7"
      },
      "source": [
        "# make predictions for test data\n",
        "y_pred = model.predict(x_test)\n",
        "predictions = [round(value) for value in y_pred]\n",
        "\n",
        "# evaluate predictions\n",
        "accuracy = accuracy_score(y_test, predictions)\n",
        "print(\"Accuracy: %.2f%%\" % (accuracy * 100.0))"
      ],
      "execution_count": 19,
      "outputs": [
        {
          "output_type": "stream",
          "text": [
            "Accuracy: 96.00%\n"
          ],
          "name": "stdout"
        }
      ]
    },
    {
      "cell_type": "markdown",
      "metadata": {
        "id": "OhEsXnCEPaLY",
        "colab_type": "text"
      },
      "source": [
        "## One-Hot Encoding\n",
        "\n",
        "For datasets that only contain categorical data, like the breast cancer dataset, we need to do one hot encoding.\n",
        "\n",
        "Dataset: breast-cancer\n",
        "\n",
        "http://archive.ics.uci.edu/ml/datasets/Breast+Cancer"
      ]
    },
    {
      "cell_type": "code",
      "metadata": {
        "id": "iXYiN7I3RCI7",
        "colab_type": "code",
        "colab": {}
      },
      "source": [
        "# binary classification, breast cancer dataset, label and one hot encoded\n",
        "import numpy as np\n",
        "from pandas import read_csv\n",
        "from xgboost import XGBClassifier\n",
        "from sklearn.model_selection import train_test_split\n",
        "from sklearn.metrics import accuracy_score\n",
        "\n",
        "# What sklearn.preprocessing function performs one hot encoding? import the one hote encoding and label encoding modules\n",
        "from sklearn.preprocessing import _______\n",
        "from sklearn.preprocessing import _______\n"
      ],
      "execution_count": 0,
      "outputs": []
    },
    {
      "cell_type": "code",
      "metadata": {
        "id": "3gbYTkiMSJ8v",
        "colab_type": "code",
        "colab": {}
      },
      "source": [
        "# load data\n",
        "\n"
      ],
      "execution_count": 0,
      "outputs": []
    },
    {
      "cell_type": "markdown",
      "metadata": {
        "id": "ylsXGk4ieetM",
        "colab_type": "text"
      },
      "source": [
        "###Perform some quick EDA on the breast cancer dataset. Get the same information as above"
      ]
    },
    {
      "cell_type": "code",
      "metadata": {
        "id": "T3kk3jJqeUfP",
        "colab_type": "code",
        "colab": {}
      },
      "source": [
        "# look at the first few lines of the dataset\n",
        "df.head(n=5)"
      ],
      "execution_count": 0,
      "outputs": []
    },
    {
      "cell_type": "code",
      "metadata": {
        "id": "J-PyNWyMfRDE",
        "colab_type": "code",
        "colab": {}
      },
      "source": [
        "df.info()"
      ],
      "execution_count": 0,
      "outputs": []
    },
    {
      "cell_type": "markdown",
      "metadata": {
        "id": "1vQxvLo3fhek",
        "colab_type": "text"
      },
      "source": [
        "We need to perform one hot encoding. \n",
        "\n",
        "**Example:**\n",
        "\n",
        "left-up, left-low, right-up, right-low, central\n",
        "\n",
        "1,0,0,0,0\n",
        "\n",
        "0,1,0,0,0\n",
        "\n",
        "0,0,1,0,0\n",
        "\n",
        "0,0,0,1,0\n",
        "\n",
        "0,0,0,0,1"
      ]
    },
    {
      "cell_type": "code",
      "metadata": {
        "id": "tglzcOQ8S30h",
        "colab_type": "code",
        "colab": {}
      },
      "source": [
        "# split data into x and y\n",
        "data = df.values\n",
        "x = data[____]\n",
        "x = x.astype(str)\n",
        "y = data[____]\n"
      ],
      "execution_count": 0,
      "outputs": []
    },
    {
      "cell_type": "code",
      "metadata": {
        "id": "mRBi1yY5SPD2",
        "colab_type": "code",
        "colab": {}
      },
      "source": [
        "# encode string input values as integers\n",
        "encoded_x = None\n",
        "for i in range(0, x.shape[1]):\n",
        "\t#instantiate label encoder\n",
        "  le = _____()\n",
        "  \n",
        "  # fit and transform the data with the label encoder\n",
        "\tfeature = le.fit_transform(x[:,i])\n",
        "\tfeature = feature.reshape(x.shape[0], 1)\n",
        "  \n",
        "  # instantiate the one hot encoder function\n",
        "\tonehot_encoder = ________(sparse=False)\n",
        "\tfeature = onehot_encoder.fit_transform(feature)\n",
        "\tif encoded_x is None:\n",
        "\t\tencoded_x = feature\n",
        "\telse:\n",
        "\t\tencoded_x = np.concatenate((encoded_x, feature), axis=1)\n",
        "print(\"x shape: : \", encoded_x.shape)"
      ],
      "execution_count": 0,
      "outputs": []
    },
    {
      "cell_type": "code",
      "metadata": {
        "id": "hMKpxHJeSSYp",
        "colab_type": "code",
        "colab": {}
      },
      "source": [
        "# encode string class values as integers\n",
        "# instantiate label encoder for your target variable\n",
        "label_encoder = _____()\n",
        "\n",
        "# fit and transform your data with the label encoder\n",
        "label_encoder = label_encoder.fit(y)\n",
        "label_encoded_y = label_encoder.transform(y)\n"
      ],
      "execution_count": 0,
      "outputs": []
    },
    {
      "cell_type": "markdown",
      "metadata": {
        "id": "USb862mwSeow",
        "colab_type": "text"
      },
      "source": [
        "Running through XGBClassifier"
      ]
    },
    {
      "cell_type": "code",
      "metadata": {
        "id": "hLGmZV-kSWYv",
        "colab_type": "code",
        "colab": {}
      },
      "source": [
        "# split data into train and test sets\n",
        "x_train, x_test, y_train, y_test = train_test_split(encoded_x, label_encoded_y, test_size=0.3, random_state=0)\n",
        "# fit model no training data\n",
        "model = XGBClassifier()\n",
        "model.fit(x_train, y_train)\n",
        "print(model)\n",
        "# make predictions for test data\n",
        "y_pred = model.predict(x_test)\n",
        "predictions = [round(value) for value in y_pred]\n",
        "# evaluate predictions\n",
        "accuracy = accuracy_score(y_test, predictions)\n",
        "print(\"Accuracy: %.2f%%\" % (accuracy * 100.0))"
      ],
      "execution_count": 0,
      "outputs": []
    }
  ]
}