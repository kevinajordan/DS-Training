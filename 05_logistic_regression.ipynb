{
  "nbformat": 4,
  "nbformat_minor": 0,
  "metadata": {
    "colab": {
      "name": "05_logistic_regression.ipynb",
      "version": "0.3.2",
      "provenance": [],
      "collapsed_sections": [],
      "include_colab_link": true
    },
    "kernelspec": {
      "name": "python3",
      "display_name": "Python 3"
    }
  },
  "cells": [
    {
      "cell_type": "markdown",
      "metadata": {
        "id": "view-in-github",
        "colab_type": "text"
      },
      "source": [
        "<a href=\"https://colab.research.google.com/github/kevinajordan/DS-Training/blob/master/05_logistic_regression.ipynb\" target=\"_parent\"><img src=\"https://colab.research.google.com/assets/colab-badge.svg\" alt=\"Open In Colab\"/></a>"
      ]
    },
    {
      "cell_type": "markdown",
      "metadata": {
        "id": "BJTbDZZAgt8w",
        "colab_type": "text"
      },
      "source": [
        "# Logistic Regression\n",
        "\n",
        "Logistic Regression predicts the probability of occurrence of a binary event utilizing a logit function. Logistic regression is a probabilistic classifier.\n",
        "\n",
        "A logistic regression model or, more specifically, its weight vector w is learned from the training data, with the goal of predicting a positive sample as close to 1 as possible and predicting a negative sample as close to 0 as possible. In mathematical language, the weights are trained so as to minimize the cost defined as the mean squared error (MSE), which measures the average of squares of difference between the truth and the prediction.\n",
        "\n",
        "Properties of Logistic Regression:\n",
        "\n",
        "* The dependent variable in logistic regression follows Bernoulli Distribution.\n",
        "* Estimation is done through maximum likelihood.\n",
        "* Output is the probability of belonging to one class or another using the logistic function (aka sigmoid function) \n",
        "\n",
        "### Maximum Likelihood Estimation Vs. Least Square Method\n",
        "\n",
        "The MLE is a \"likelihood\" maximization method, while OLS is a distance-minimizing approximation method. Maximizing the likelihood function determines the parameters that are most likely to produce the observed data. From a statistical point of view, MLE sets the mean and variance as parameters in determining the specific parametric values for a given model. This set of parameters can be used for predicting the data needed in a normal distribution.\n",
        "\n",
        "Ordinary Least squares estimates are computed by fitting a regression line on given data points that has the minimum sum of the squared deviations (least square error). Both are used to estimate the parameters of a linear regression model. \n",
        "\n",
        "### Sigmoid Function\n",
        "The sigmoid function, also called logistic function gives an ‘S’ shaped curve that can take any real-valued number and map it into a value between 0 and 1. If the curve goes to positive infinity, y predicted will become 1, and if the curve goes to negative infinity, y predicted will become 0. If the output of the sigmoid function is more than 0.5, we can classify the outcome as 1 or YES, and if it is less than 0.5, we can classify it as 0 or NO. For example: If the output is 0.75, we can say in terms of probability as: There is a 75 percent chance that patient will suffer from cancer.\n",
        "\n",
        "![alt text](http://res.cloudinary.com/dyd911kmh/image/upload/f_auto,q_auto:best/v1534281880/image4_gw5mmv.png)\n",
        "\n",
        "\n",
        "### Types of Logistic Regression:\n",
        "\n",
        "* Binary Logistic Regression: The target variable has only two possible outcomes such as Spam or Not Spam, Cancer or No Cancer.\n",
        "* Multinomial Logistic Regression: The target variable has three or more nominal categories such as predicting the type of Wine.\n",
        "* Ordinal Logistic Regression: the target variable has three or more ordinal categories such as restaurant or product rating from 1 to 5.\n",
        "\n",
        "https://www.datacamp.com/community/tutorials/understanding-logistic-regression-python"
      ]
    },
    {
      "cell_type": "code",
      "metadata": {
        "id": "0l4uyEYRqfwt",
        "colab_type": "code",
        "colab": {}
      },
      "source": [
        "# Visualizing the sigmoid function\n",
        "import numpy as np\n",
        "def sigmoid(input):\n",
        "  return 1.0 / (1 + np.exp(-input))"
      ],
      "execution_count": 0,
      "outputs": []
    },
    {
      "cell_type": "code",
      "metadata": {
        "id": "djgsqkZaqnHe",
        "colab_type": "code",
        "outputId": "912d2602-c065-46e4-b484-a3b24a5d53a2",
        "colab": {
          "base_uri": "https://localhost:8080/",
          "height": 283
        }
      },
      "source": [
        "z = np.linspace(-8, 8, 1000)\n",
        "y = sigmoid(z)\n",
        "import matplotlib.pyplot as plt\n",
        "plt.plot(z, y)\n",
        "plt.axhline(y=0, ls='dotted', color='k')\n",
        "plt.axhline(y=0.5, ls='dotted', color='k')\n",
        "plt.axhline(y=1, ls='dotted', color='k')\n",
        "plt.yticks([0.0, 0.25, 0.5, 0.75, 1.0])\n",
        "plt.xlabel('z')\n",
        "plt.ylabel('y(z)')\n",
        "plt.show()"
      ],
      "execution_count": 0,
      "outputs": [
        {
          "output_type": "display_data",
          "data": {
            "image/png": "[encoded data removed]",
            "text/plain": [
              "<Figure size 432x288 with 1 Axes>"
            ]
          },
          "metadata": {
            "tags": []
          }
        }
      ]
    },
    {
      "cell_type": "markdown",
      "metadata": {
        "id": "eLTpwLtCq3vn",
        "colab_type": "text"
      },
      "source": [
        "In the S-shaped curve, all inputs are transformed into the range from 0 to 1. For positive inputs, a greater value results in an output closer to 1; for negative inputs, a smaller value generates an output closer to 0; when the input is 0, the output is the midpoint, 0.5."
      ]
    },
    {
      "cell_type": "markdown",
      "metadata": {
        "id": "TjrTjZbHlz03",
        "colab_type": "text"
      },
      "source": [
        "The job of the learning algorithm is to discover the best values for the coefficients ($\\beta_0$, $\\beta_1$, $\\beta_2$ ) based on the training data.\n",
        "\n",
        "output = $\\beta_0$ + $\\beta_1$ *$X_1$ +  $\\beta_2$*$X_2$\n",
        "\n",
        "p(class = 0) = $1/1 + e^ -output$\n",
        "\n",
        "Logisitc regression learns what the best values should be based on the Maximum Likelihood Estimation algorithm. "
      ]
    },
    {
      "cell_type": "code",
      "metadata": {
        "id": "5xJzhG0blyFG",
        "colab_type": "code",
        "colab": {}
      },
      "source": [
        "#import pandas\n",
        "import pandas as pd\n",
        "col_names = ['pregnant', 'glucose', 'bp', 'skin', 'insulin', 'bmi', 'pedigree', 'age', 'label']\n",
        "# load dataset\n",
        "url = \"https://raw.githubusercontent.com/jbrownlee/Datasets/master/pima-indians-diabetes.data.csv\"\n",
        "pima = pd.read_csv(url, names=col_names)"
      ],
      "execution_count": 0,
      "outputs": []
    },
    {
      "cell_type": "code",
      "metadata": {
        "id": "8ACLyy0ioXDt",
        "colab_type": "code",
        "colab": {}
      },
      "source": [
        "#split dataset in features and target variable\n",
        "feature_cols = ['pregnant', 'insulin', 'bmi', 'age','glucose','bp','pedigree']\n",
        "X = pima[feature_cols] # Features\n",
        "y = pima.label # Target variable"
      ],
      "execution_count": 0,
      "outputs": []
    },
    {
      "cell_type": "code",
      "metadata": {
        "id": "2fjCoB2moaQt",
        "colab_type": "code",
        "colab": {}
      },
      "source": [
        "# split X and y into training and testing sets\n",
        "from sklearn.model_selection import train_test_split\n",
        "X_train,X_test,y_train,y_test=train_test_split(X,y,test_size=0.25,random_state=0)"
      ],
      "execution_count": 0,
      "outputs": []
    },
    {
      "cell_type": "code",
      "metadata": {
        "id": "MJCm5kaPof3d",
        "colab_type": "code",
        "outputId": "aad6d826-197a-4892-ab86-86cc0db2f35e",
        "colab": {
          "base_uri": "https://localhost:8080/",
          "height": 71
        }
      },
      "source": [
        "# import the class\n",
        "from sklearn.linear_model import LogisticRegression\n",
        "\n",
        "# instantiate the model (using the default parameters)\n",
        "logreg = LogisticRegression()\n",
        "\n",
        "# fit the model with data\n",
        "logreg.fit(X_train,y_train)\n",
        "\n",
        "#\n",
        "y_pred=logreg.predict(X_test)"
      ],
      "execution_count": 0,
      "outputs": [
        {
          "output_type": "stream",
          "text": [
            "/usr/local/lib/python3.6/dist-packages/sklearn/linear_model/logistic.py:432: FutureWarning: Default solver will be changed to 'lbfgs' in 0.22. Specify a solver to silence this warning.\n",
            "  FutureWarning)\n"
          ],
          "name": "stderr"
        }
      ]
    },
    {
      "cell_type": "code",
      "metadata": {
        "id": "NAofgf-Eoi0d",
        "colab_type": "code",
        "outputId": "c4b4d894-9c6b-40ad-8436-ae6a0a97dad3",
        "colab": {
          "base_uri": "https://localhost:8080/",
          "height": 51
        }
      },
      "source": [
        "# import the metrics class\n",
        "from sklearn import metrics\n",
        "cnf_matrix = metrics.confusion_matrix(y_test, y_pred)\n",
        "cnf_matrix"
      ],
      "execution_count": 0,
      "outputs": [
        {
          "output_type": "execute_result",
          "data": {
            "text/plain": [
              "array([[119,  11],\n",
              "       [ 26,  36]])"
            ]
          },
          "metadata": {
            "tags": []
          },
          "execution_count": 18
        }
      ]
    },
    {
      "cell_type": "code",
      "metadata": {
        "id": "If_Wb9Y1omNl",
        "colab_type": "code",
        "colab": {}
      },
      "source": [
        "# import required modules\n",
        "import numpy as np\n",
        "import matplotlib.pyplot as plt\n",
        "import seaborn as sns\n",
        "%matplotlib inline"
      ],
      "execution_count": 0,
      "outputs": []
    },
    {
      "cell_type": "markdown",
      "metadata": {
        "id": "ChweGQd3rFJj",
        "colab_type": "text"
      },
      "source": [
        "## Confusion Matrix\n",
        "![alt text](https://miro.medium.com/max/700/1*CPnO_bcdbE8FXTejQiV2dg.png)\n",
        "\n",
        "### Precision & Recall\n",
        "\n",
        "![alt text](https://miro.medium.com/max/1000/1*6NkN_LINs2erxgVJ9rkpUA.png)\n",
        "\n",
        "\n",
        "Source: https://towardsdatascience.com/beyond-accuracy-precision-and-recall-3da06bea9f6c\n",
        "\n"
      ]
    },
    {
      "cell_type": "code",
      "metadata": {
        "id": "9iOdfr3zopE1",
        "colab_type": "code",
        "outputId": "c755776e-3d9c-44f5-c81a-83914b5872cf",
        "colab": {
          "base_uri": "https://localhost:8080/",
          "height": 339
        }
      },
      "source": [
        "class_names=[0,1] # name  of classes\n",
        "fig, ax = plt.subplots()\n",
        "tick_marks = np.arange(len(class_names))\n",
        "plt.xticks(tick_marks, class_names)\n",
        "plt.yticks(tick_marks, class_names)\n",
        "# create heatmap\n",
        "sns.heatmap(pd.DataFrame(cnf_matrix), annot=True, cmap=\"YlGnBu\" ,fmt='g')\n",
        "ax.xaxis.set_label_position(\"top\")\n",
        "plt.tight_layout()\n",
        "plt.title('Confusion matrix', y=1.1)\n",
        "plt.ylabel('Actual label')\n",
        "plt.xlabel('Predicted label')"
      ],
      "execution_count": 0,
      "outputs": [
        {
          "output_type": "execute_result",
          "data": {
            "text/plain": [
              "Text(0.5, 257.44, 'Predicted label')"
            ]
          },
          "metadata": {
            "tags": []
          },
          "execution_count": 11
        },
        {
          "output_type": "display_data",
          "data": {
            "image/png": "[encoded data removed]",
            "text/plain": [
              "<Figure size 432x288 with 2 Axes>"
            ]
          },
          "metadata": {
            "tags": []
          }
        }
      ]
    },
    {
      "cell_type": "code",
      "metadata": {
        "id": "DH950aJ5osjV",
        "colab_type": "code",
        "outputId": "f50522ee-853e-4044-bee4-136206be01e4",
        "colab": {
          "base_uri": "https://localhost:8080/",
          "height": 68
        }
      },
      "source": [
        "print(\"Accuracy:\",metrics.accuracy_score(y_test, y_pred))\n",
        "print(\"Precision:\",metrics.precision_score(y_test, y_pred))\n",
        "print(\"Recall:\",metrics.recall_score(y_test, y_pred))"
      ],
      "execution_count": 0,
      "outputs": [
        {
          "output_type": "stream",
          "text": [
            "Accuracy: 0.8072916666666666\n",
            "Precision: 0.7659574468085106\n",
            "Recall: 0.5806451612903226\n"
          ],
          "name": "stdout"
        }
      ]
    },
    {
      "cell_type": "code",
      "metadata": {
        "id": "fiOyhohMowRO",
        "colab_type": "code",
        "outputId": "172a0c80-bbd9-4d0b-ec1e-1188b6349c2c",
        "colab": {
          "base_uri": "https://localhost:8080/",
          "height": 269
        }
      },
      "source": [
        "y_pred_proba = logreg.predict_proba(X_test)[::,1]\n",
        "fpr, tpr, _ = metrics.roc_curve(y_test,  y_pred_proba)\n",
        "auc = metrics.roc_auc_score(y_test, y_pred_proba)\n",
        "plt.plot(fpr,tpr,label=\"data 1, auc=\"+str(auc))\n",
        "plt.legend(loc=4)\n",
        "plt.show()"
      ],
      "execution_count": 0,
      "outputs": [
        {
          "output_type": "display_data",
          "data": {
            "image/png": "[encoded data removed]",
            "text/plain": [
              "<Figure size 432x288 with 1 Axes>"
            ]
          },
          "metadata": {
            "tags": []
          }
        }
      ]
    },
    {
      "cell_type": "code",
      "metadata": {
        "id": "6zuNkoWTpAzG",
        "colab_type": "code",
        "colab": {}
      },
      "source": [
        ""
      ],
      "execution_count": 0,
      "outputs": []
    }
  ]
}